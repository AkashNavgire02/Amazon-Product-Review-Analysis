{
  "cells": [
    {
      "cell_type": "code",
      "execution_count": 5,
      "metadata": {
        "id": "f05266dd"
      },
      "outputs": [],
      "source": [
        "import pandas as pd"
      ],
      "id": "f05266dd"
    },
    {
      "cell_type": "code",
      "execution_count": 6,
      "metadata": {
        "colab": {
          "base_uri": "https://localhost:8080/"
        },
        "id": "YitjGeWz8n6p",
        "outputId": "aedca25d-a6b5-45b4-c6c0-4a219df1f795"
      },
      "outputs": [
        {
          "output_type": "stream",
          "name": "stdout",
          "text": [
            "Drive already mounted at /content/drive; to attempt to forcibly remount, call drive.mount(\"/content/drive\", force_remount=True).\n"
          ]
        }
      ],
      "source": [
        "from google.colab import drive\n",
        "drive.mount('/content/drive')"
      ],
      "id": "YitjGeWz8n6p"
    },
    {
      "cell_type": "code",
      "execution_count": 7,
      "metadata": {
        "id": "fd14405d"
      },
      "outputs": [],
      "source": [
        "df=pd.read_csv(\"/content/drive/MyDrive/ML/Cellphone_clustering.csv\")"
      ],
      "id": "fd14405d"
    },
    {
      "cell_type": "code",
      "execution_count": 8,
      "metadata": {
        "colab": {
          "base_uri": "https://localhost:8080/",
          "height": 206
        },
        "id": "256a9507",
        "outputId": "00709331-5f87-4d2c-bb6c-c623d416bfd2"
      },
      "outputs": [
        {
          "output_type": "execute_result",
          "data": {
            "text/html": [
              "\n",
              "  <div id=\"df-91367307-9980-4b15-a765-9262a069c26f\">\n",
              "    <div class=\"colab-df-container\">\n",
              "      <div>\n",
              "<style scoped>\n",
              "    .dataframe tbody tr th:only-of-type {\n",
              "        vertical-align: middle;\n",
              "    }\n",
              "\n",
              "    .dataframe tbody tr th {\n",
              "        vertical-align: top;\n",
              "    }\n",
              "\n",
              "    .dataframe thead th {\n",
              "        text-align: right;\n",
              "    }\n",
              "</style>\n",
              "<table border=\"1\" class=\"dataframe\">\n",
              "  <thead>\n",
              "    <tr style=\"text-align: right;\">\n",
              "      <th></th>\n",
              "      <th>Unnamed: 0</th>\n",
              "      <th>product_id</th>\n",
              "      <th>main_cat</th>\n",
              "      <th>overall</th>\n",
              "      <th>reviewTime</th>\n",
              "      <th>reviewerID</th>\n",
              "      <th>Review</th>\n",
              "      <th>Month</th>\n",
              "      <th>Year</th>\n",
              "      <th>day</th>\n",
              "      <th>Rank</th>\n",
              "    </tr>\n",
              "  </thead>\n",
              "  <tbody>\n",
              "    <tr>\n",
              "      <th>0</th>\n",
              "      <td>0</td>\n",
              "      <td>7532385086</td>\n",
              "      <td>cell phones accessories</td>\n",
              "      <td>5.0</td>\n",
              "      <td>2011-02-02</td>\n",
              "      <td>A2G38P52ZF5TTH</td>\n",
              "      <td>love case prettyand love way case feels touch ...</td>\n",
              "      <td>2.0</td>\n",
              "      <td>2011.0</td>\n",
              "      <td>2.0</td>\n",
              "      <td>553803 100 275153</td>\n",
              "    </tr>\n",
              "    <tr>\n",
              "      <th>1</th>\n",
              "      <td>1</td>\n",
              "      <td>7532385086</td>\n",
              "      <td>cell phones accessories</td>\n",
              "      <td>3.0</td>\n",
              "      <td>2012-02-02</td>\n",
              "      <td>A3Q6C95EFP4FEX</td>\n",
              "      <td>idea design sweet idea wears paint case sealan...</td>\n",
              "      <td>2.0</td>\n",
              "      <td>2012.0</td>\n",
              "      <td>2.0</td>\n",
              "      <td>553803 100 275153</td>\n",
              "    </tr>\n",
              "    <tr>\n",
              "      <th>2</th>\n",
              "      <td>2</td>\n",
              "      <td>7532385086</td>\n",
              "      <td>cell phones accessories</td>\n",
              "      <td>5.0</td>\n",
              "      <td>2012-07-18</td>\n",
              "      <td>A2GHDKZBYXGAPY</td>\n",
              "      <td>worried order picture description page kept ch...</td>\n",
              "      <td>7.0</td>\n",
              "      <td>2012.0</td>\n",
              "      <td>18.0</td>\n",
              "      <td>553803 100 275153</td>\n",
              "    </tr>\n",
              "    <tr>\n",
              "      <th>3</th>\n",
              "      <td>3</td>\n",
              "      <td>7532385086</td>\n",
              "      <td>cell phones accessories</td>\n",
              "      <td>5.0</td>\n",
              "      <td>2013-02-15</td>\n",
              "      <td>A2Y33PMFKII0VR</td>\n",
              "      <td>another pretty phone case really love many lov...</td>\n",
              "      <td>2.0</td>\n",
              "      <td>2013.0</td>\n",
              "      <td>15.0</td>\n",
              "      <td>553803 100 275153</td>\n",
              "    </tr>\n",
              "    <tr>\n",
              "      <th>4</th>\n",
              "      <td>4</td>\n",
              "      <td>7532385086</td>\n",
              "      <td>cell phones accessories</td>\n",
              "      <td>4.0</td>\n",
              "      <td>2012-12-08</td>\n",
              "      <td>A3S8BPAUQQLDKU</td>\n",
              "      <td>case white silver still pretty case fit phone ...</td>\n",
              "      <td>12.0</td>\n",
              "      <td>2012.0</td>\n",
              "      <td>8.0</td>\n",
              "      <td>553803 100 275153</td>\n",
              "    </tr>\n",
              "  </tbody>\n",
              "</table>\n",
              "</div>\n",
              "      <button class=\"colab-df-convert\" onclick=\"convertToInteractive('df-91367307-9980-4b15-a765-9262a069c26f')\"\n",
              "              title=\"Convert this dataframe to an interactive table.\"\n",
              "              style=\"display:none;\">\n",
              "        \n",
              "  <svg xmlns=\"http://www.w3.org/2000/svg\" height=\"24px\"viewBox=\"0 0 24 24\"\n",
              "       width=\"24px\">\n",
              "    <path d=\"M0 0h24v24H0V0z\" fill=\"none\"/>\n",
              "    <path d=\"M18.56 5.44l.94 2.06.94-2.06 2.06-.94-2.06-.94-.94-2.06-.94 2.06-2.06.94zm-11 1L8.5 8.5l.94-2.06 2.06-.94-2.06-.94L8.5 2.5l-.94 2.06-2.06.94zm10 10l.94 2.06.94-2.06 2.06-.94-2.06-.94-.94-2.06-.94 2.06-2.06.94z\"/><path d=\"M17.41 7.96l-1.37-1.37c-.4-.4-.92-.59-1.43-.59-.52 0-1.04.2-1.43.59L10.3 9.45l-7.72 7.72c-.78.78-.78 2.05 0 2.83L4 21.41c.39.39.9.59 1.41.59.51 0 1.02-.2 1.41-.59l7.78-7.78 2.81-2.81c.8-.78.8-2.07 0-2.86zM5.41 20L4 18.59l7.72-7.72 1.47 1.35L5.41 20z\"/>\n",
              "  </svg>\n",
              "      </button>\n",
              "      \n",
              "  <style>\n",
              "    .colab-df-container {\n",
              "      display:flex;\n",
              "      flex-wrap:wrap;\n",
              "      gap: 12px;\n",
              "    }\n",
              "\n",
              "    .colab-df-convert {\n",
              "      background-color: #E8F0FE;\n",
              "      border: none;\n",
              "      border-radius: 50%;\n",
              "      cursor: pointer;\n",
              "      display: none;\n",
              "      fill: #1967D2;\n",
              "      height: 32px;\n",
              "      padding: 0 0 0 0;\n",
              "      width: 32px;\n",
              "    }\n",
              "\n",
              "    .colab-df-convert:hover {\n",
              "      background-color: #E2EBFA;\n",
              "      box-shadow: 0px 1px 2px rgba(60, 64, 67, 0.3), 0px 1px 3px 1px rgba(60, 64, 67, 0.15);\n",
              "      fill: #174EA6;\n",
              "    }\n",
              "\n",
              "    [theme=dark] .colab-df-convert {\n",
              "      background-color: #3B4455;\n",
              "      fill: #D2E3FC;\n",
              "    }\n",
              "\n",
              "    [theme=dark] .colab-df-convert:hover {\n",
              "      background-color: #434B5C;\n",
              "      box-shadow: 0px 1px 3px 1px rgba(0, 0, 0, 0.15);\n",
              "      filter: drop-shadow(0px 1px 2px rgba(0, 0, 0, 0.3));\n",
              "      fill: #FFFFFF;\n",
              "    }\n",
              "  </style>\n",
              "\n",
              "      <script>\n",
              "        const buttonEl =\n",
              "          document.querySelector('#df-91367307-9980-4b15-a765-9262a069c26f button.colab-df-convert');\n",
              "        buttonEl.style.display =\n",
              "          google.colab.kernel.accessAllowed ? 'block' : 'none';\n",
              "\n",
              "        async function convertToInteractive(key) {\n",
              "          const element = document.querySelector('#df-91367307-9980-4b15-a765-9262a069c26f');\n",
              "          const dataTable =\n",
              "            await google.colab.kernel.invokeFunction('convertToInteractive',\n",
              "                                                     [key], {});\n",
              "          if (!dataTable) return;\n",
              "\n",
              "          const docLinkHtml = 'Like what you see? Visit the ' +\n",
              "            '<a target=\"_blank\" href=https://colab.research.google.com/notebooks/data_table.ipynb>data table notebook</a>'\n",
              "            + ' to learn more about interactive tables.';\n",
              "          element.innerHTML = '';\n",
              "          dataTable['output_type'] = 'display_data';\n",
              "          await google.colab.output.renderOutput(dataTable, element);\n",
              "          const docLink = document.createElement('div');\n",
              "          docLink.innerHTML = docLinkHtml;\n",
              "          element.appendChild(docLink);\n",
              "        }\n",
              "      </script>\n",
              "    </div>\n",
              "  </div>\n",
              "  "
            ],
            "text/plain": [
              "   Unnamed: 0  product_id  ...   day               Rank\n",
              "0           0  7532385086  ...   2.0  553803 100 275153\n",
              "1           1  7532385086  ...   2.0  553803 100 275153\n",
              "2           2  7532385086  ...  18.0  553803 100 275153\n",
              "3           3  7532385086  ...  15.0  553803 100 275153\n",
              "4           4  7532385086  ...   8.0  553803 100 275153\n",
              "\n",
              "[5 rows x 11 columns]"
            ]
          },
          "metadata": {},
          "execution_count": 8
        }
      ],
      "source": [
        "df.head()"
      ],
      "id": "256a9507"
    },
    {
      "cell_type": "code",
      "execution_count": 9,
      "metadata": {
        "colab": {
          "base_uri": "https://localhost:8080/"
        },
        "id": "872e0c23",
        "outputId": "2d9de3be-6f0a-45f6-84f1-5154de6c944b"
      },
      "outputs": [
        {
          "output_type": "execute_result",
          "data": {
            "text/plain": [
              "(44847, 11)"
            ]
          },
          "metadata": {},
          "execution_count": 9
        }
      ],
      "source": [
        "df.shape"
      ],
      "id": "872e0c23"
    },
    {
      "cell_type": "code",
      "source": [
        "df.drop(columns='Unnamed: 0',axis=1,inplace=True)"
      ],
      "metadata": {
        "id": "K5Z9U3X9N-Mp"
      },
      "id": "K5Z9U3X9N-Mp",
      "execution_count": 10,
      "outputs": []
    },
    {
      "cell_type": "code",
      "source": [
        "df.dropna()"
      ],
      "metadata": {
        "colab": {
          "base_uri": "https://localhost:8080/",
          "height": 423
        },
        "id": "MZH8g2jhN4zv",
        "outputId": "c99bf94b-28cc-4a28-8a9e-aa1b9d8b2cdb"
      },
      "id": "MZH8g2jhN4zv",
      "execution_count": 11,
      "outputs": [
        {
          "output_type": "execute_result",
          "data": {
            "text/html": [
              "\n",
              "  <div id=\"df-4d53386c-ee22-4553-b52e-85e6c83f65ad\">\n",
              "    <div class=\"colab-df-container\">\n",
              "      <div>\n",
              "<style scoped>\n",
              "    .dataframe tbody tr th:only-of-type {\n",
              "        vertical-align: middle;\n",
              "    }\n",
              "\n",
              "    .dataframe tbody tr th {\n",
              "        vertical-align: top;\n",
              "    }\n",
              "\n",
              "    .dataframe thead th {\n",
              "        text-align: right;\n",
              "    }\n",
              "</style>\n",
              "<table border=\"1\" class=\"dataframe\">\n",
              "  <thead>\n",
              "    <tr style=\"text-align: right;\">\n",
              "      <th></th>\n",
              "      <th>product_id</th>\n",
              "      <th>main_cat</th>\n",
              "      <th>overall</th>\n",
              "      <th>reviewTime</th>\n",
              "      <th>reviewerID</th>\n",
              "      <th>Review</th>\n",
              "      <th>Month</th>\n",
              "      <th>Year</th>\n",
              "      <th>day</th>\n",
              "      <th>Rank</th>\n",
              "    </tr>\n",
              "  </thead>\n",
              "  <tbody>\n",
              "    <tr>\n",
              "      <th>0</th>\n",
              "      <td>7532385086</td>\n",
              "      <td>cell phones accessories</td>\n",
              "      <td>5.0</td>\n",
              "      <td>2011-02-02</td>\n",
              "      <td>A2G38P52ZF5TTH</td>\n",
              "      <td>love case prettyand love way case feels touch ...</td>\n",
              "      <td>2.0</td>\n",
              "      <td>2011.0</td>\n",
              "      <td>2.0</td>\n",
              "      <td>553803 100 275153</td>\n",
              "    </tr>\n",
              "    <tr>\n",
              "      <th>1</th>\n",
              "      <td>7532385086</td>\n",
              "      <td>cell phones accessories</td>\n",
              "      <td>3.0</td>\n",
              "      <td>2012-02-02</td>\n",
              "      <td>A3Q6C95EFP4FEX</td>\n",
              "      <td>idea design sweet idea wears paint case sealan...</td>\n",
              "      <td>2.0</td>\n",
              "      <td>2012.0</td>\n",
              "      <td>2.0</td>\n",
              "      <td>553803 100 275153</td>\n",
              "    </tr>\n",
              "    <tr>\n",
              "      <th>2</th>\n",
              "      <td>7532385086</td>\n",
              "      <td>cell phones accessories</td>\n",
              "      <td>5.0</td>\n",
              "      <td>2012-07-18</td>\n",
              "      <td>A2GHDKZBYXGAPY</td>\n",
              "      <td>worried order picture description page kept ch...</td>\n",
              "      <td>7.0</td>\n",
              "      <td>2012.0</td>\n",
              "      <td>18.0</td>\n",
              "      <td>553803 100 275153</td>\n",
              "    </tr>\n",
              "    <tr>\n",
              "      <th>3</th>\n",
              "      <td>7532385086</td>\n",
              "      <td>cell phones accessories</td>\n",
              "      <td>5.0</td>\n",
              "      <td>2013-02-15</td>\n",
              "      <td>A2Y33PMFKII0VR</td>\n",
              "      <td>another pretty phone case really love many lov...</td>\n",
              "      <td>2.0</td>\n",
              "      <td>2013.0</td>\n",
              "      <td>15.0</td>\n",
              "      <td>553803 100 275153</td>\n",
              "    </tr>\n",
              "    <tr>\n",
              "      <th>4</th>\n",
              "      <td>7532385086</td>\n",
              "      <td>cell phones accessories</td>\n",
              "      <td>4.0</td>\n",
              "      <td>2012-12-08</td>\n",
              "      <td>A3S8BPAUQQLDKU</td>\n",
              "      <td>case white silver still pretty case fit phone ...</td>\n",
              "      <td>12.0</td>\n",
              "      <td>2012.0</td>\n",
              "      <td>8.0</td>\n",
              "      <td>553803 100 275153</td>\n",
              "    </tr>\n",
              "    <tr>\n",
              "      <th>...</th>\n",
              "      <td>...</td>\n",
              "      <td>...</td>\n",
              "      <td>...</td>\n",
              "      <td>...</td>\n",
              "      <td>...</td>\n",
              "      <td>...</td>\n",
              "      <td>...</td>\n",
              "      <td>...</td>\n",
              "      <td>...</td>\n",
              "      <td>...</td>\n",
              "    </tr>\n",
              "    <tr>\n",
              "      <th>44842</th>\n",
              "      <td>B008N8KSOY</td>\n",
              "      <td>cell phones accessories</td>\n",
              "      <td>2.0</td>\n",
              "      <td>2014-02-09</td>\n",
              "      <td>A3O13RBA3G64VN</td>\n",
              "      <td>cute case sturdy reliable phone fell screen br...</td>\n",
              "      <td>2.0</td>\n",
              "      <td>2014.0</td>\n",
              "      <td>9.0</td>\n",
              "      <td>494634 100 1831</td>\n",
              "    </tr>\n",
              "    <tr>\n",
              "      <th>44843</th>\n",
              "      <td>B008N8KSOY</td>\n",
              "      <td>cell phones accessories</td>\n",
              "      <td>5.0</td>\n",
              "      <td>2013-02-04</td>\n",
              "      <td>A369E3SLQ3UBUX</td>\n",
              "      <td>great gift lady life got one girl friend think...</td>\n",
              "      <td>2.0</td>\n",
              "      <td>2013.0</td>\n",
              "      <td>4.0</td>\n",
              "      <td>494634 100 1831</td>\n",
              "    </tr>\n",
              "    <tr>\n",
              "      <th>44844</th>\n",
              "      <td>B008N8KSOY</td>\n",
              "      <td>cell phones accessories</td>\n",
              "      <td>4.0</td>\n",
              "      <td>2013-03-26</td>\n",
              "      <td>A1M2O2U08T5FPX</td>\n",
              "      <td>thought pink color would like realistic well c...</td>\n",
              "      <td>3.0</td>\n",
              "      <td>2013.0</td>\n",
              "      <td>26.0</td>\n",
              "      <td>494634 100 1831</td>\n",
              "    </tr>\n",
              "    <tr>\n",
              "      <th>44845</th>\n",
              "      <td>B008N8KSOY</td>\n",
              "      <td>cell phones accessories</td>\n",
              "      <td>5.0</td>\n",
              "      <td>2014-05-04</td>\n",
              "      <td>AEAFHD09X8044</td>\n",
              "      <td>quality superb rubber extra thick chain metal ...</td>\n",
              "      <td>5.0</td>\n",
              "      <td>2014.0</td>\n",
              "      <td>4.0</td>\n",
              "      <td>494634 100 1831</td>\n",
              "    </tr>\n",
              "    <tr>\n",
              "      <th>44846</th>\n",
              "      <td>B008N8KSOY</td>\n",
              "      <td>cell phones accessories</td>\n",
              "      <td>5.0</td>\n",
              "      <td>2013-04-15</td>\n",
              "      <td>A1BKCSJQDT9LC7</td>\n",
              "      <td>patiently waiting case pink pic close also lin...</td>\n",
              "      <td>4.0</td>\n",
              "      <td>2013.0</td>\n",
              "      <td>15.0</td>\n",
              "      <td>494634 100 1831</td>\n",
              "    </tr>\n",
              "  </tbody>\n",
              "</table>\n",
              "<p>40607 rows × 10 columns</p>\n",
              "</div>\n",
              "      <button class=\"colab-df-convert\" onclick=\"convertToInteractive('df-4d53386c-ee22-4553-b52e-85e6c83f65ad')\"\n",
              "              title=\"Convert this dataframe to an interactive table.\"\n",
              "              style=\"display:none;\">\n",
              "        \n",
              "  <svg xmlns=\"http://www.w3.org/2000/svg\" height=\"24px\"viewBox=\"0 0 24 24\"\n",
              "       width=\"24px\">\n",
              "    <path d=\"M0 0h24v24H0V0z\" fill=\"none\"/>\n",
              "    <path d=\"M18.56 5.44l.94 2.06.94-2.06 2.06-.94-2.06-.94-.94-2.06-.94 2.06-2.06.94zm-11 1L8.5 8.5l.94-2.06 2.06-.94-2.06-.94L8.5 2.5l-.94 2.06-2.06.94zm10 10l.94 2.06.94-2.06 2.06-.94-2.06-.94-.94-2.06-.94 2.06-2.06.94z\"/><path d=\"M17.41 7.96l-1.37-1.37c-.4-.4-.92-.59-1.43-.59-.52 0-1.04.2-1.43.59L10.3 9.45l-7.72 7.72c-.78.78-.78 2.05 0 2.83L4 21.41c.39.39.9.59 1.41.59.51 0 1.02-.2 1.41-.59l7.78-7.78 2.81-2.81c.8-.78.8-2.07 0-2.86zM5.41 20L4 18.59l7.72-7.72 1.47 1.35L5.41 20z\"/>\n",
              "  </svg>\n",
              "      </button>\n",
              "      \n",
              "  <style>\n",
              "    .colab-df-container {\n",
              "      display:flex;\n",
              "      flex-wrap:wrap;\n",
              "      gap: 12px;\n",
              "    }\n",
              "\n",
              "    .colab-df-convert {\n",
              "      background-color: #E8F0FE;\n",
              "      border: none;\n",
              "      border-radius: 50%;\n",
              "      cursor: pointer;\n",
              "      display: none;\n",
              "      fill: #1967D2;\n",
              "      height: 32px;\n",
              "      padding: 0 0 0 0;\n",
              "      width: 32px;\n",
              "    }\n",
              "\n",
              "    .colab-df-convert:hover {\n",
              "      background-color: #E2EBFA;\n",
              "      box-shadow: 0px 1px 2px rgba(60, 64, 67, 0.3), 0px 1px 3px 1px rgba(60, 64, 67, 0.15);\n",
              "      fill: #174EA6;\n",
              "    }\n",
              "\n",
              "    [theme=dark] .colab-df-convert {\n",
              "      background-color: #3B4455;\n",
              "      fill: #D2E3FC;\n",
              "    }\n",
              "\n",
              "    [theme=dark] .colab-df-convert:hover {\n",
              "      background-color: #434B5C;\n",
              "      box-shadow: 0px 1px 3px 1px rgba(0, 0, 0, 0.15);\n",
              "      filter: drop-shadow(0px 1px 2px rgba(0, 0, 0, 0.3));\n",
              "      fill: #FFFFFF;\n",
              "    }\n",
              "  </style>\n",
              "\n",
              "      <script>\n",
              "        const buttonEl =\n",
              "          document.querySelector('#df-4d53386c-ee22-4553-b52e-85e6c83f65ad button.colab-df-convert');\n",
              "        buttonEl.style.display =\n",
              "          google.colab.kernel.accessAllowed ? 'block' : 'none';\n",
              "\n",
              "        async function convertToInteractive(key) {\n",
              "          const element = document.querySelector('#df-4d53386c-ee22-4553-b52e-85e6c83f65ad');\n",
              "          const dataTable =\n",
              "            await google.colab.kernel.invokeFunction('convertToInteractive',\n",
              "                                                     [key], {});\n",
              "          if (!dataTable) return;\n",
              "\n",
              "          const docLinkHtml = 'Like what you see? Visit the ' +\n",
              "            '<a target=\"_blank\" href=https://colab.research.google.com/notebooks/data_table.ipynb>data table notebook</a>'\n",
              "            + ' to learn more about interactive tables.';\n",
              "          element.innerHTML = '';\n",
              "          dataTable['output_type'] = 'display_data';\n",
              "          await google.colab.output.renderOutput(dataTable, element);\n",
              "          const docLink = document.createElement('div');\n",
              "          docLink.innerHTML = docLinkHtml;\n",
              "          element.appendChild(docLink);\n",
              "        }\n",
              "      </script>\n",
              "    </div>\n",
              "  </div>\n",
              "  "
            ],
            "text/plain": [
              "       product_id                 main_cat  ...   day               Rank\n",
              "0      7532385086  cell phones accessories  ...   2.0  553803 100 275153\n",
              "1      7532385086  cell phones accessories  ...   2.0  553803 100 275153\n",
              "2      7532385086  cell phones accessories  ...  18.0  553803 100 275153\n",
              "3      7532385086  cell phones accessories  ...  15.0  553803 100 275153\n",
              "4      7532385086  cell phones accessories  ...   8.0  553803 100 275153\n",
              "...           ...                      ...  ...   ...                ...\n",
              "44842  B008N8KSOY  cell phones accessories  ...   9.0    494634 100 1831\n",
              "44843  B008N8KSOY  cell phones accessories  ...   4.0    494634 100 1831\n",
              "44844  B008N8KSOY  cell phones accessories  ...  26.0    494634 100 1831\n",
              "44845  B008N8KSOY  cell phones accessories  ...   4.0    494634 100 1831\n",
              "44846  B008N8KSOY  cell phones accessories  ...  15.0    494634 100 1831\n",
              "\n",
              "[40607 rows x 10 columns]"
            ]
          },
          "metadata": {},
          "execution_count": 11
        }
      ]
    },
    {
      "cell_type": "code",
      "execution_count": 16,
      "metadata": {
        "colab": {
          "base_uri": "https://localhost:8080/"
        },
        "id": "6427c8a5",
        "outputId": "917b3897-9985-4638-c590-739d90cd0203"
      },
      "outputs": [
        {
          "output_type": "execute_result",
          "data": {
            "text/plain": [
              "product_id       0\n",
              "main_cat         0\n",
              "overall          0\n",
              "reviewTime       0\n",
              "reviewerID       0\n",
              "Review           2\n",
              "Month            0\n",
              "Year             0\n",
              "day              0\n",
              "Rank          4238\n",
              "dtype: int64"
            ]
          },
          "metadata": {},
          "execution_count": 16
        }
      ],
      "source": [
        "df.isnull().sum()"
      ],
      "id": "6427c8a5"
    },
    {
      "cell_type": "code",
      "execution_count": 17,
      "metadata": {
        "colab": {
          "base_uri": "https://localhost:8080/"
        },
        "id": "13989087",
        "outputId": "bbae40f6-c426-41f8-96e8-8070388d6c26"
      },
      "outputs": [
        {
          "output_type": "execute_result",
          "data": {
            "text/plain": [
              "product_id     object\n",
              "main_cat       object\n",
              "overall       float64\n",
              "reviewTime     object\n",
              "reviewerID     object\n",
              "Review         object\n",
              "Month         float64\n",
              "Year          float64\n",
              "day           float64\n",
              "Rank           object\n",
              "dtype: object"
            ]
          },
          "metadata": {},
          "execution_count": 17
        }
      ],
      "source": [
        "df.dtypes"
      ],
      "id": "13989087"
    },
    {
      "cell_type": "code",
      "execution_count": 10,
      "metadata": {
        "colab": {
          "base_uri": "https://localhost:8080/"
        },
        "id": "23925b1f",
        "outputId": "5d293e19-b64f-4a52-d847-7340dc77181d"
      },
      "outputs": [
        {
          "output_type": "stream",
          "name": "stdout",
          "text": [
            "<class 'pandas.core.frame.DataFrame'>\n",
            "RangeIndex: 44847 entries, 0 to 44846\n",
            "Data columns (total 10 columns):\n",
            " #   Column      Non-Null Count  Dtype  \n",
            "---  ------      --------------  -----  \n",
            " 0   product_id  44847 non-null  object \n",
            " 1   main_cat    44847 non-null  object \n",
            " 2   overall     44847 non-null  float64\n",
            " 3   reviewTime  44847 non-null  object \n",
            " 4   reviewerID  44847 non-null  object \n",
            " 5   Review      44845 non-null  object \n",
            " 6   Month       44847 non-null  float64\n",
            " 7   Year        44847 non-null  float64\n",
            " 8   day         44847 non-null  float64\n",
            " 9   Rank        40609 non-null  object \n",
            "dtypes: float64(4), object(6)\n",
            "memory usage: 3.4+ MB\n"
          ]
        }
      ],
      "source": [
        "df.info()"
      ],
      "id": "23925b1f"
    },
    {
      "cell_type": "code",
      "execution_count": 13,
      "metadata": {
        "colab": {
          "base_uri": "https://localhost:8080/",
          "height": 174
        },
        "id": "kmK7ITTLDPC5",
        "outputId": "091bbf63-4a9b-4691-ca30-d89b9ca338ee"
      },
      "outputs": [
        {
          "output_type": "execute_result",
          "data": {
            "text/html": [
              "\n",
              "  <div id=\"df-3529ef92-1470-455d-943e-269a8211a6da\">\n",
              "    <div class=\"colab-df-container\">\n",
              "      <div>\n",
              "<style scoped>\n",
              "    .dataframe tbody tr th:only-of-type {\n",
              "        vertical-align: middle;\n",
              "    }\n",
              "\n",
              "    .dataframe tbody tr th {\n",
              "        vertical-align: top;\n",
              "    }\n",
              "\n",
              "    .dataframe thead th {\n",
              "        text-align: right;\n",
              "    }\n",
              "</style>\n",
              "<table border=\"1\" class=\"dataframe\">\n",
              "  <thead>\n",
              "    <tr style=\"text-align: right;\">\n",
              "      <th></th>\n",
              "      <th>overall</th>\n",
              "      <th>Month</th>\n",
              "      <th>Year</th>\n",
              "      <th>day</th>\n",
              "    </tr>\n",
              "  </thead>\n",
              "  <tbody>\n",
              "    <tr>\n",
              "      <th>overall</th>\n",
              "      <td>1.000000</td>\n",
              "      <td>-0.001395</td>\n",
              "      <td>0.019238</td>\n",
              "      <td>0.006714</td>\n",
              "    </tr>\n",
              "    <tr>\n",
              "      <th>Month</th>\n",
              "      <td>-0.001395</td>\n",
              "      <td>1.000000</td>\n",
              "      <td>-0.269683</td>\n",
              "      <td>0.046127</td>\n",
              "    </tr>\n",
              "    <tr>\n",
              "      <th>Year</th>\n",
              "      <td>0.019238</td>\n",
              "      <td>-0.269683</td>\n",
              "      <td>1.000000</td>\n",
              "      <td>-0.038188</td>\n",
              "    </tr>\n",
              "    <tr>\n",
              "      <th>day</th>\n",
              "      <td>0.006714</td>\n",
              "      <td>0.046127</td>\n",
              "      <td>-0.038188</td>\n",
              "      <td>1.000000</td>\n",
              "    </tr>\n",
              "  </tbody>\n",
              "</table>\n",
              "</div>\n",
              "      <button class=\"colab-df-convert\" onclick=\"convertToInteractive('df-3529ef92-1470-455d-943e-269a8211a6da')\"\n",
              "              title=\"Convert this dataframe to an interactive table.\"\n",
              "              style=\"display:none;\">\n",
              "        \n",
              "  <svg xmlns=\"http://www.w3.org/2000/svg\" height=\"24px\"viewBox=\"0 0 24 24\"\n",
              "       width=\"24px\">\n",
              "    <path d=\"M0 0h24v24H0V0z\" fill=\"none\"/>\n",
              "    <path d=\"M18.56 5.44l.94 2.06.94-2.06 2.06-.94-2.06-.94-.94-2.06-.94 2.06-2.06.94zm-11 1L8.5 8.5l.94-2.06 2.06-.94-2.06-.94L8.5 2.5l-.94 2.06-2.06.94zm10 10l.94 2.06.94-2.06 2.06-.94-2.06-.94-.94-2.06-.94 2.06-2.06.94z\"/><path d=\"M17.41 7.96l-1.37-1.37c-.4-.4-.92-.59-1.43-.59-.52 0-1.04.2-1.43.59L10.3 9.45l-7.72 7.72c-.78.78-.78 2.05 0 2.83L4 21.41c.39.39.9.59 1.41.59.51 0 1.02-.2 1.41-.59l7.78-7.78 2.81-2.81c.8-.78.8-2.07 0-2.86zM5.41 20L4 18.59l7.72-7.72 1.47 1.35L5.41 20z\"/>\n",
              "  </svg>\n",
              "      </button>\n",
              "      \n",
              "  <style>\n",
              "    .colab-df-container {\n",
              "      display:flex;\n",
              "      flex-wrap:wrap;\n",
              "      gap: 12px;\n",
              "    }\n",
              "\n",
              "    .colab-df-convert {\n",
              "      background-color: #E8F0FE;\n",
              "      border: none;\n",
              "      border-radius: 50%;\n",
              "      cursor: pointer;\n",
              "      display: none;\n",
              "      fill: #1967D2;\n",
              "      height: 32px;\n",
              "      padding: 0 0 0 0;\n",
              "      width: 32px;\n",
              "    }\n",
              "\n",
              "    .colab-df-convert:hover {\n",
              "      background-color: #E2EBFA;\n",
              "      box-shadow: 0px 1px 2px rgba(60, 64, 67, 0.3), 0px 1px 3px 1px rgba(60, 64, 67, 0.15);\n",
              "      fill: #174EA6;\n",
              "    }\n",
              "\n",
              "    [theme=dark] .colab-df-convert {\n",
              "      background-color: #3B4455;\n",
              "      fill: #D2E3FC;\n",
              "    }\n",
              "\n",
              "    [theme=dark] .colab-df-convert:hover {\n",
              "      background-color: #434B5C;\n",
              "      box-shadow: 0px 1px 3px 1px rgba(0, 0, 0, 0.15);\n",
              "      filter: drop-shadow(0px 1px 2px rgba(0, 0, 0, 0.3));\n",
              "      fill: #FFFFFF;\n",
              "    }\n",
              "  </style>\n",
              "\n",
              "      <script>\n",
              "        const buttonEl =\n",
              "          document.querySelector('#df-3529ef92-1470-455d-943e-269a8211a6da button.colab-df-convert');\n",
              "        buttonEl.style.display =\n",
              "          google.colab.kernel.accessAllowed ? 'block' : 'none';\n",
              "\n",
              "        async function convertToInteractive(key) {\n",
              "          const element = document.querySelector('#df-3529ef92-1470-455d-943e-269a8211a6da');\n",
              "          const dataTable =\n",
              "            await google.colab.kernel.invokeFunction('convertToInteractive',\n",
              "                                                     [key], {});\n",
              "          if (!dataTable) return;\n",
              "\n",
              "          const docLinkHtml = 'Like what you see? Visit the ' +\n",
              "            '<a target=\"_blank\" href=https://colab.research.google.com/notebooks/data_table.ipynb>data table notebook</a>'\n",
              "            + ' to learn more about interactive tables.';\n",
              "          element.innerHTML = '';\n",
              "          dataTable['output_type'] = 'display_data';\n",
              "          await google.colab.output.renderOutput(dataTable, element);\n",
              "          const docLink = document.createElement('div');\n",
              "          docLink.innerHTML = docLinkHtml;\n",
              "          element.appendChild(docLink);\n",
              "        }\n",
              "      </script>\n",
              "    </div>\n",
              "  </div>\n",
              "  "
            ],
            "text/plain": [
              "          overall     Month      Year       day\n",
              "overall  1.000000 -0.001395  0.019238  0.006714\n",
              "Month   -0.001395  1.000000 -0.269683  0.046127\n",
              "Year     0.019238 -0.269683  1.000000 -0.038188\n",
              "day      0.006714  0.046127 -0.038188  1.000000"
            ]
          },
          "metadata": {},
          "execution_count": 13
        }
      ],
      "source": [
        "df.corr()"
      ],
      "id": "kmK7ITTLDPC5"
    },
    {
      "cell_type": "code",
      "execution_count": 14,
      "metadata": {
        "colab": {
          "base_uri": "https://localhost:8080/",
          "height": 269
        },
        "id": "_xcsGOdwC_kJ",
        "outputId": "aded1e4d-e7e7-43be-b42c-5637a8068bc3"
      },
      "outputs": [
        {
          "output_type": "display_data",
          "data": {
            "image/png": "[encoded data removed]",
            "text/plain": [
              "<Figure size 432x288 with 2 Axes>"
            ]
          },
          "metadata": {
            "needs_background": "light"
          }
        }
      ],
      "source": [
        "import seaborn as sns\n",
        "import matplotlib.pyplot as plt\n",
        "sns.heatmap(df.corr())\n",
        "plt.show()"
      ],
      "id": "_xcsGOdwC_kJ"
    },
    {
      "cell_type": "code",
      "execution_count": 12,
      "metadata": {
        "colab": {
          "base_uri": "https://localhost:8080/",
          "height": 206
        },
        "id": "yWrOB2UyDYV4",
        "outputId": "40333afd-df54-4c43-8517-4ad146518d33"
      },
      "outputs": [
        {
          "output_type": "execute_result",
          "data": {
            "text/html": [
              "\n",
              "  <div id=\"df-fde05686-4af6-407d-ae78-c4358944a11c\">\n",
              "    <div class=\"colab-df-container\">\n",
              "      <div>\n",
              "<style scoped>\n",
              "    .dataframe tbody tr th:only-of-type {\n",
              "        vertical-align: middle;\n",
              "    }\n",
              "\n",
              "    .dataframe tbody tr th {\n",
              "        vertical-align: top;\n",
              "    }\n",
              "\n",
              "    .dataframe thead th {\n",
              "        text-align: right;\n",
              "    }\n",
              "</style>\n",
              "<table border=\"1\" class=\"dataframe\">\n",
              "  <thead>\n",
              "    <tr style=\"text-align: right;\">\n",
              "      <th></th>\n",
              "      <th>product_id</th>\n",
              "      <th>main_cat</th>\n",
              "      <th>overall</th>\n",
              "      <th>reviewTime</th>\n",
              "      <th>reviewerID</th>\n",
              "      <th>Review</th>\n",
              "      <th>Month</th>\n",
              "      <th>Year</th>\n",
              "      <th>day</th>\n",
              "      <th>Rank</th>\n",
              "    </tr>\n",
              "  </thead>\n",
              "  <tbody>\n",
              "    <tr>\n",
              "      <th>0</th>\n",
              "      <td>7532385086</td>\n",
              "      <td>6</td>\n",
              "      <td>5.0</td>\n",
              "      <td>2011-02-02</td>\n",
              "      <td>A2G38P52ZF5TTH</td>\n",
              "      <td>love case prettyand love way case feels touch ...</td>\n",
              "      <td>2.0</td>\n",
              "      <td>2011.0</td>\n",
              "      <td>2.0</td>\n",
              "      <td>553803 100 275153</td>\n",
              "    </tr>\n",
              "    <tr>\n",
              "      <th>1</th>\n",
              "      <td>7532385086</td>\n",
              "      <td>6</td>\n",
              "      <td>3.0</td>\n",
              "      <td>2012-02-02</td>\n",
              "      <td>A3Q6C95EFP4FEX</td>\n",
              "      <td>idea design sweet idea wears paint case sealan...</td>\n",
              "      <td>2.0</td>\n",
              "      <td>2012.0</td>\n",
              "      <td>2.0</td>\n",
              "      <td>553803 100 275153</td>\n",
              "    </tr>\n",
              "    <tr>\n",
              "      <th>2</th>\n",
              "      <td>7532385086</td>\n",
              "      <td>6</td>\n",
              "      <td>5.0</td>\n",
              "      <td>2012-07-18</td>\n",
              "      <td>A2GHDKZBYXGAPY</td>\n",
              "      <td>worried order picture description page kept ch...</td>\n",
              "      <td>7.0</td>\n",
              "      <td>2012.0</td>\n",
              "      <td>18.0</td>\n",
              "      <td>553803 100 275153</td>\n",
              "    </tr>\n",
              "    <tr>\n",
              "      <th>3</th>\n",
              "      <td>7532385086</td>\n",
              "      <td>6</td>\n",
              "      <td>5.0</td>\n",
              "      <td>2013-02-15</td>\n",
              "      <td>A2Y33PMFKII0VR</td>\n",
              "      <td>another pretty phone case really love many lov...</td>\n",
              "      <td>2.0</td>\n",
              "      <td>2013.0</td>\n",
              "      <td>15.0</td>\n",
              "      <td>553803 100 275153</td>\n",
              "    </tr>\n",
              "    <tr>\n",
              "      <th>4</th>\n",
              "      <td>7532385086</td>\n",
              "      <td>6</td>\n",
              "      <td>4.0</td>\n",
              "      <td>2012-12-08</td>\n",
              "      <td>A3S8BPAUQQLDKU</td>\n",
              "      <td>case white silver still pretty case fit phone ...</td>\n",
              "      <td>12.0</td>\n",
              "      <td>2012.0</td>\n",
              "      <td>8.0</td>\n",
              "      <td>553803 100 275153</td>\n",
              "    </tr>\n",
              "  </tbody>\n",
              "</table>\n",
              "</div>\n",
              "      <button class=\"colab-df-convert\" onclick=\"convertToInteractive('df-fde05686-4af6-407d-ae78-c4358944a11c')\"\n",
              "              title=\"Convert this dataframe to an interactive table.\"\n",
              "              style=\"display:none;\">\n",
              "        \n",
              "  <svg xmlns=\"http://www.w3.org/2000/svg\" height=\"24px\"viewBox=\"0 0 24 24\"\n",
              "       width=\"24px\">\n",
              "    <path d=\"M0 0h24v24H0V0z\" fill=\"none\"/>\n",
              "    <path d=\"M18.56 5.44l.94 2.06.94-2.06 2.06-.94-2.06-.94-.94-2.06-.94 2.06-2.06.94zm-11 1L8.5 8.5l.94-2.06 2.06-.94-2.06-.94L8.5 2.5l-.94 2.06-2.06.94zm10 10l.94 2.06.94-2.06 2.06-.94-2.06-.94-.94-2.06-.94 2.06-2.06.94z\"/><path d=\"M17.41 7.96l-1.37-1.37c-.4-.4-.92-.59-1.43-.59-.52 0-1.04.2-1.43.59L10.3 9.45l-7.72 7.72c-.78.78-.78 2.05 0 2.83L4 21.41c.39.39.9.59 1.41.59.51 0 1.02-.2 1.41-.59l7.78-7.78 2.81-2.81c.8-.78.8-2.07 0-2.86zM5.41 20L4 18.59l7.72-7.72 1.47 1.35L5.41 20z\"/>\n",
              "  </svg>\n",
              "      </button>\n",
              "      \n",
              "  <style>\n",
              "    .colab-df-container {\n",
              "      display:flex;\n",
              "      flex-wrap:wrap;\n",
              "      gap: 12px;\n",
              "    }\n",
              "\n",
              "    .colab-df-convert {\n",
              "      background-color: #E8F0FE;\n",
              "      border: none;\n",
              "      border-radius: 50%;\n",
              "      cursor: pointer;\n",
              "      display: none;\n",
              "      fill: #1967D2;\n",
              "      height: 32px;\n",
              "      padding: 0 0 0 0;\n",
              "      width: 32px;\n",
              "    }\n",
              "\n",
              "    .colab-df-convert:hover {\n",
              "      background-color: #E2EBFA;\n",
              "      box-shadow: 0px 1px 2px rgba(60, 64, 67, 0.3), 0px 1px 3px 1px rgba(60, 64, 67, 0.15);\n",
              "      fill: #174EA6;\n",
              "    }\n",
              "\n",
              "    [theme=dark] .colab-df-convert {\n",
              "      background-color: #3B4455;\n",
              "      fill: #D2E3FC;\n",
              "    }\n",
              "\n",
              "    [theme=dark] .colab-df-convert:hover {\n",
              "      background-color: #434B5C;\n",
              "      box-shadow: 0px 1px 3px 1px rgba(0, 0, 0, 0.15);\n",
              "      filter: drop-shadow(0px 1px 2px rgba(0, 0, 0, 0.3));\n",
              "      fill: #FFFFFF;\n",
              "    }\n",
              "  </style>\n",
              "\n",
              "      <script>\n",
              "        const buttonEl =\n",
              "          document.querySelector('#df-fde05686-4af6-407d-ae78-c4358944a11c button.colab-df-convert');\n",
              "        buttonEl.style.display =\n",
              "          google.colab.kernel.accessAllowed ? 'block' : 'none';\n",
              "\n",
              "        async function convertToInteractive(key) {\n",
              "          const element = document.querySelector('#df-fde05686-4af6-407d-ae78-c4358944a11c');\n",
              "          const dataTable =\n",
              "            await google.colab.kernel.invokeFunction('convertToInteractive',\n",
              "                                                     [key], {});\n",
              "          if (!dataTable) return;\n",
              "\n",
              "          const docLinkHtml = 'Like what you see? Visit the ' +\n",
              "            '<a target=\"_blank\" href=https://colab.research.google.com/notebooks/data_table.ipynb>data table notebook</a>'\n",
              "            + ' to learn more about interactive tables.';\n",
              "          element.innerHTML = '';\n",
              "          dataTable['output_type'] = 'display_data';\n",
              "          await google.colab.output.renderOutput(dataTable, element);\n",
              "          const docLink = document.createElement('div');\n",
              "          docLink.innerHTML = docLinkHtml;\n",
              "          element.appendChild(docLink);\n",
              "        }\n",
              "      </script>\n",
              "    </div>\n",
              "  </div>\n",
              "  "
            ],
            "text/plain": [
              "   product_id  main_cat  overall  ...    Year   day               Rank\n",
              "0  7532385086         6      5.0  ...  2011.0   2.0  553803 100 275153\n",
              "1  7532385086         6      3.0  ...  2012.0   2.0  553803 100 275153\n",
              "2  7532385086         6      5.0  ...  2012.0  18.0  553803 100 275153\n",
              "3  7532385086         6      5.0  ...  2013.0  15.0  553803 100 275153\n",
              "4  7532385086         6      4.0  ...  2012.0   8.0  553803 100 275153\n",
              "\n",
              "[5 rows x 10 columns]"
            ]
          },
          "metadata": {},
          "execution_count": 12
        }
      ],
      "source": [
        "from sklearn.preprocessing import LabelEncoder\n",
        "labelencoder = LabelEncoder()\n",
        "df['main_cat'] = labelencoder.fit_transform(df['main_cat'])\n",
        "df.head()"
      ],
      "id": "yWrOB2UyDYV4"
    },
    {
      "cell_type": "markdown",
      "source": [
        "**# Data scaling**"
      ],
      "metadata": {
        "id": "xLTrndQuPLjw"
      },
      "id": "xLTrndQuPLjw"
    },
    {
      "cell_type": "code",
      "execution_count": 13,
      "metadata": {
        "colab": {
          "base_uri": "https://localhost:8080/",
          "height": 206
        },
        "id": "y57RY_-jDlun",
        "outputId": "b0c35c2c-ad4d-4c13-cde8-2b73e9b02562"
      },
      "outputs": [
        {
          "output_type": "execute_result",
          "data": {
            "text/html": [
              "\n",
              "  <div id=\"df-3d162ba1-a979-4c54-b69e-522670342121\">\n",
              "    <div class=\"colab-df-container\">\n",
              "      <div>\n",
              "<style scoped>\n",
              "    .dataframe tbody tr th:only-of-type {\n",
              "        vertical-align: middle;\n",
              "    }\n",
              "\n",
              "    .dataframe tbody tr th {\n",
              "        vertical-align: top;\n",
              "    }\n",
              "\n",
              "    .dataframe thead th {\n",
              "        text-align: right;\n",
              "    }\n",
              "</style>\n",
              "<table border=\"1\" class=\"dataframe\">\n",
              "  <thead>\n",
              "    <tr style=\"text-align: right;\">\n",
              "      <th></th>\n",
              "      <th>product_id</th>\n",
              "      <th>main_cat</th>\n",
              "      <th>overall</th>\n",
              "      <th>reviewTime</th>\n",
              "      <th>reviewerID</th>\n",
              "      <th>Review</th>\n",
              "      <th>Month</th>\n",
              "      <th>Year</th>\n",
              "      <th>day</th>\n",
              "      <th>Rank</th>\n",
              "    </tr>\n",
              "  </thead>\n",
              "  <tbody>\n",
              "    <tr>\n",
              "      <th>0</th>\n",
              "      <td>7532385086</td>\n",
              "      <td>-0.019983</td>\n",
              "      <td>0.757483</td>\n",
              "      <td>2011-02-02</td>\n",
              "      <td>A2G38P52ZF5TTH</td>\n",
              "      <td>love case prettyand love way case feels touch ...</td>\n",
              "      <td>-1.161386</td>\n",
              "      <td>-1.081367</td>\n",
              "      <td>2.0</td>\n",
              "      <td>553803 100 275153</td>\n",
              "    </tr>\n",
              "    <tr>\n",
              "      <th>1</th>\n",
              "      <td>7532385086</td>\n",
              "      <td>-0.019983</td>\n",
              "      <td>-0.807273</td>\n",
              "      <td>2012-02-02</td>\n",
              "      <td>A3Q6C95EFP4FEX</td>\n",
              "      <td>idea design sweet idea wears paint case sealan...</td>\n",
              "      <td>-1.161386</td>\n",
              "      <td>-0.309530</td>\n",
              "      <td>2.0</td>\n",
              "      <td>553803 100 275153</td>\n",
              "    </tr>\n",
              "    <tr>\n",
              "      <th>2</th>\n",
              "      <td>7532385086</td>\n",
              "      <td>-0.019983</td>\n",
              "      <td>0.757483</td>\n",
              "      <td>2012-07-18</td>\n",
              "      <td>A2GHDKZBYXGAPY</td>\n",
              "      <td>worried order picture description page kept ch...</td>\n",
              "      <td>0.201673</td>\n",
              "      <td>-0.309530</td>\n",
              "      <td>18.0</td>\n",
              "      <td>553803 100 275153</td>\n",
              "    </tr>\n",
              "    <tr>\n",
              "      <th>3</th>\n",
              "      <td>7532385086</td>\n",
              "      <td>-0.019983</td>\n",
              "      <td>0.757483</td>\n",
              "      <td>2013-02-15</td>\n",
              "      <td>A2Y33PMFKII0VR</td>\n",
              "      <td>another pretty phone case really love many lov...</td>\n",
              "      <td>-1.161386</td>\n",
              "      <td>0.462307</td>\n",
              "      <td>15.0</td>\n",
              "      <td>553803 100 275153</td>\n",
              "    </tr>\n",
              "    <tr>\n",
              "      <th>4</th>\n",
              "      <td>7532385086</td>\n",
              "      <td>-0.019983</td>\n",
              "      <td>-0.024895</td>\n",
              "      <td>2012-12-08</td>\n",
              "      <td>A3S8BPAUQQLDKU</td>\n",
              "      <td>case white silver still pretty case fit phone ...</td>\n",
              "      <td>1.564733</td>\n",
              "      <td>-0.309530</td>\n",
              "      <td>8.0</td>\n",
              "      <td>553803 100 275153</td>\n",
              "    </tr>\n",
              "  </tbody>\n",
              "</table>\n",
              "</div>\n",
              "      <button class=\"colab-df-convert\" onclick=\"convertToInteractive('df-3d162ba1-a979-4c54-b69e-522670342121')\"\n",
              "              title=\"Convert this dataframe to an interactive table.\"\n",
              "              style=\"display:none;\">\n",
              "        \n",
              "  <svg xmlns=\"http://www.w3.org/2000/svg\" height=\"24px\"viewBox=\"0 0 24 24\"\n",
              "       width=\"24px\">\n",
              "    <path d=\"M0 0h24v24H0V0z\" fill=\"none\"/>\n",
              "    <path d=\"M18.56 5.44l.94 2.06.94-2.06 2.06-.94-2.06-.94-.94-2.06-.94 2.06-2.06.94zm-11 1L8.5 8.5l.94-2.06 2.06-.94-2.06-.94L8.5 2.5l-.94 2.06-2.06.94zm10 10l.94 2.06.94-2.06 2.06-.94-2.06-.94-.94-2.06-.94 2.06-2.06.94z\"/><path d=\"M17.41 7.96l-1.37-1.37c-.4-.4-.92-.59-1.43-.59-.52 0-1.04.2-1.43.59L10.3 9.45l-7.72 7.72c-.78.78-.78 2.05 0 2.83L4 21.41c.39.39.9.59 1.41.59.51 0 1.02-.2 1.41-.59l7.78-7.78 2.81-2.81c.8-.78.8-2.07 0-2.86zM5.41 20L4 18.59l7.72-7.72 1.47 1.35L5.41 20z\"/>\n",
              "  </svg>\n",
              "      </button>\n",
              "      \n",
              "  <style>\n",
              "    .colab-df-container {\n",
              "      display:flex;\n",
              "      flex-wrap:wrap;\n",
              "      gap: 12px;\n",
              "    }\n",
              "\n",
              "    .colab-df-convert {\n",
              "      background-color: #E8F0FE;\n",
              "      border: none;\n",
              "      border-radius: 50%;\n",
              "      cursor: pointer;\n",
              "      display: none;\n",
              "      fill: #1967D2;\n",
              "      height: 32px;\n",
              "      padding: 0 0 0 0;\n",
              "      width: 32px;\n",
              "    }\n",
              "\n",
              "    .colab-df-convert:hover {\n",
              "      background-color: #E2EBFA;\n",
              "      box-shadow: 0px 1px 2px rgba(60, 64, 67, 0.3), 0px 1px 3px 1px rgba(60, 64, 67, 0.15);\n",
              "      fill: #174EA6;\n",
              "    }\n",
              "\n",
              "    [theme=dark] .colab-df-convert {\n",
              "      background-color: #3B4455;\n",
              "      fill: #D2E3FC;\n",
              "    }\n",
              "\n",
              "    [theme=dark] .colab-df-convert:hover {\n",
              "      background-color: #434B5C;\n",
              "      box-shadow: 0px 1px 3px 1px rgba(0, 0, 0, 0.15);\n",
              "      filter: drop-shadow(0px 1px 2px rgba(0, 0, 0, 0.3));\n",
              "      fill: #FFFFFF;\n",
              "    }\n",
              "  </style>\n",
              "\n",
              "      <script>\n",
              "        const buttonEl =\n",
              "          document.querySelector('#df-3d162ba1-a979-4c54-b69e-522670342121 button.colab-df-convert');\n",
              "        buttonEl.style.display =\n",
              "          google.colab.kernel.accessAllowed ? 'block' : 'none';\n",
              "\n",
              "        async function convertToInteractive(key) {\n",
              "          const element = document.querySelector('#df-3d162ba1-a979-4c54-b69e-522670342121');\n",
              "          const dataTable =\n",
              "            await google.colab.kernel.invokeFunction('convertToInteractive',\n",
              "                                                     [key], {});\n",
              "          if (!dataTable) return;\n",
              "\n",
              "          const docLinkHtml = 'Like what you see? Visit the ' +\n",
              "            '<a target=\"_blank\" href=https://colab.research.google.com/notebooks/data_table.ipynb>data table notebook</a>'\n",
              "            + ' to learn more about interactive tables.';\n",
              "          element.innerHTML = '';\n",
              "          dataTable['output_type'] = 'display_data';\n",
              "          await google.colab.output.renderOutput(dataTable, element);\n",
              "          const docLink = document.createElement('div');\n",
              "          docLink.innerHTML = docLinkHtml;\n",
              "          element.appendChild(docLink);\n",
              "        }\n",
              "      </script>\n",
              "    </div>\n",
              "  </div>\n",
              "  "
            ],
            "text/plain": [
              "   product_id  main_cat   overall  ...      Year   day               Rank\n",
              "0  7532385086 -0.019983  0.757483  ... -1.081367   2.0  553803 100 275153\n",
              "1  7532385086 -0.019983 -0.807273  ... -0.309530   2.0  553803 100 275153\n",
              "2  7532385086 -0.019983  0.757483  ... -0.309530  18.0  553803 100 275153\n",
              "3  7532385086 -0.019983  0.757483  ...  0.462307  15.0  553803 100 275153\n",
              "4  7532385086 -0.019983 -0.024895  ... -0.309530   8.0  553803 100 275153\n",
              "\n",
              "[5 rows x 10 columns]"
            ]
          },
          "metadata": {},
          "execution_count": 13
        }
      ],
      "source": [
        "df_final=df\n",
        "from sklearn.preprocessing import StandardScaler\n",
        "std_scaler = StandardScaler()\n",
        "scale_columns =[\"overall\",'main_cat','Month','Year']\n",
        "df_final[scale_columns] = std_scaler.fit_transform(df_final[scale_columns])\n",
        "df_final.head()"
      ],
      "id": "y57RY_-jDlun"
    },
    {
      "cell_type": "code",
      "execution_count": 14,
      "metadata": {
        "id": "Q1QeOZCJDvJC"
      },
      "outputs": [],
      "source": [
        "data_final=df_final[[\"overall\",'main_cat','Month','Year']]"
      ],
      "id": "Q1QeOZCJDvJC"
    },
    {
      "cell_type": "markdown",
      "metadata": {
        "id": "82j3l-BJLT3L"
      },
      "source": [
        "**kmean_clustering**"
      ],
      "id": "82j3l-BJLT3L"
    },
    {
      "cell_type": "code",
      "execution_count": 16,
      "metadata": {
        "id": "YeW3wpUdD2RS"
      },
      "outputs": [],
      "source": [
        "from sklearn.cluster import KMeans"
      ],
      "id": "YeW3wpUdD2RS"
    },
    {
      "cell_type": "code",
      "execution_count": 17,
      "metadata": {
        "colab": {
          "base_uri": "https://localhost:8080/"
        },
        "id": "Tm98FoN-D-iI",
        "outputId": "46ec1ce1-d961-45e8-ffff-11b378cd5cb7"
      },
      "outputs": [
        {
          "output_type": "stream",
          "name": "stdout",
          "text": [
            "[[-1.67038955 -0.11628337 -0.00710497  0.07173586]\n",
            " [ 0.40492824 -0.10128427  0.88879525 -0.5741742 ]\n",
            " [ 0.440938   -0.08018063 -0.80487102  0.47764651]\n",
            " [ 0.31831297  6.088121    0.06713762  0.20502805]]\n",
            "[2 0 1 ... 2 2 2]\n"
          ]
        }
      ],
      "source": [
        "kmeans = KMeans(n_clusters=4).fit(data_final)\n",
        "centroids = kmeans.cluster_centers_\n",
        "labels = kmeans.labels_\n",
        "print(centroids)\n",
        "print(labels)"
      ],
      "id": "Tm98FoN-D-iI"
    },
    {
      "cell_type": "markdown",
      "metadata": {
        "id": "i4511X-lLYtL"
      },
      "source": [
        "**Elbow method**"
      ],
      "id": "i4511X-lLYtL"
    },
    {
      "cell_type": "code",
      "execution_count": 18,
      "metadata": {
        "colab": {
          "base_uri": "https://localhost:8080/",
          "height": 336
        },
        "id": "pXK8V9fnEHt5",
        "outputId": "40289a4a-0186-4ce8-f6bd-5fbd83030adb"
      },
      "outputs": [
        {
          "output_type": "display_data",
          "data": {
            "image/png": "[encoded data removed]",
            "text/plain": [
              "<Figure size 1080x360 with 1 Axes>"
            ]
          },
          "metadata": {
            "needs_background": "light"
          }
        }
      ],
      "source": [
        "distorsions = []\n",
        "for k in range(1, 15):\n",
        "    kmeans = KMeans(n_clusters=k)\n",
        "    kmeans.fit(data_final)\n",
        "    distorsions.append(kmeans.inertia_)\n",
        "fig = plt.figure(figsize=(15, 5))\n",
        "plt.plot(range(1,15), distorsions)\n",
        "plt.grid(True)\n",
        "plt.title('Elbow curve');"
      ],
      "id": "pXK8V9fnEHt5"
    },
    {
      "cell_type": "markdown",
      "metadata": {
        "id": "jaxNkegJLabv"
      },
      "source": [
        "**Findout the silhoutte score**"
      ],
      "id": "jaxNkegJLabv"
    },
    {
      "cell_type": "code",
      "execution_count": 19,
      "metadata": {
        "colab": {
          "base_uri": "https://localhost:8080/",
          "height": 1000
        },
        "id": "oM1h22hsEZKu",
        "outputId": "6f8d159f-15e3-4460-a19e-ff0e5198faef"
      },
      "outputs": [
        {
          "output_type": "stream",
          "name": "stdout",
          "text": [
            "For n_clusters = 2 The average silhouette_score is : 0.28849310766634384\n",
            "For n_clusters = 3 The average silhouette_score is : 0.3241080765911692\n",
            "For n_clusters = 4 The average silhouette_score is : 0.34587451300413147\n",
            "For n_clusters = 5 The average silhouette_score is : 0.36262134857235506\n",
            "For n_clusters = 6 The average silhouette_score is : 0.3823607680635903\n",
            "For n_clusters = 7 The average silhouette_score is : 0.3808995083811876\n",
            "For n_clusters = 8 The average silhouette_score is : 0.35387771833977144\n"
          ]
        },
        {
          "output_type": "display_data",
          "data": {
            "image/png": "[encoded data removed]",
            "text/plain": [
              "<Figure size 432x288 with 1 Axes>"
            ]
          },
          "metadata": {
            "needs_background": "light"
          }
        },
        {
          "output_type": "display_data",
          "data": {
            "image/png": "[encoded data removed]",
            "text/plain": [
              "<Figure size 432x288 with 1 Axes>"
            ]
          },
          "metadata": {
            "needs_background": "light"
          }
        },
        {
          "output_type": "display_data",
          "data": {
            "image/png": "[encoded data removed]",
            "text/plain": [
              "<Figure size 432x288 with 1 Axes>"
            ]
          },
          "metadata": {
            "needs_background": "light"
          }
        },
        {
          "output_type": "display_data",
          "data": {
            "image/png": "[encoded data removed]",
            "text/plain": [
              "<Figure size 432x288 with 1 Axes>"
            ]
          },
          "metadata": {
            "needs_background": "light"
          }
        },
        {
          "output_type": "display_data",
          "data": {
            "image/png": "[encoded data removed]",
            "text/plain": [
              "<Figure size 432x288 with 1 Axes>"
            ]
          },
          "metadata": {
            "needs_background": "light"
          }
        },
        {
          "output_type": "display_data",
          "data": {
            "image/png": "[encoded data removed]",
            "text/plain": [
              "<Figure size 432x288 with 1 Axes>"
            ]
          },
          "metadata": {
            "needs_background": "light"
          }
        },
        {
          "output_type": "display_data",
          "data": {
            "image/png": "[encoded data removed]",
            "text/plain": [
              "<Figure size 432x288 with 1 Axes>"
            ]
          },
          "metadata": {
            "needs_background": "light"
          }
        }
      ],
      "source": [
        "import numpy as np\n",
        "from sklearn.metrics import silhouette_samples, silhouette_score\n",
        "import matplotlib.cm as cm\n",
        "range_n_clusters = [2, 3, 4, 5, 6,7,8]\n",
        "for n_clusters in range_n_clusters:\n",
        "# Create a subplot with 1 row and 2 columns\n",
        "    fig, ax1 = plt.subplots(1, 1)\n",
        "    ax1.set_xlim([-0.1, 1])\n",
        "    ax1.set_ylim([0, len(data_final) + (n_clusters + 1) * 10])\n",
        "    clusterer = KMeans(n_clusters=n_clusters, random_state=10)\n",
        "    cluster_labels = clusterer.fit_predict(data_final)\n",
        "    silhouette_avg = silhouette_score(data_final, cluster_labels)\n",
        "    print(\"For n_clusters =\", n_clusters, \"The average silhouette_score is :\", silhouette_avg)\n",
        "# Compute the silhouette scores for each sample\n",
        "    sample_silhouette_values = silhouette_samples(data_final, cluster_labels)\n",
        "    y_lower = 10\n",
        "    for i in range(n_clusters):\n",
        "        ith_cluster_silhouette_values = sample_silhouette_values[cluster_labels == i]\n",
        "        ith_cluster_silhouette_values.sort()\n",
        "        size_cluster_i = ith_cluster_silhouette_values.shape[0]\n",
        "        y_upper = y_lower + size_cluster_i\n",
        "        color = cm.nipy_spectral(float(i) / n_clusters)\n",
        "        ax1.fill_betweenx(np.arange(y_lower, y_upper), 0, ith_cluster_silhouette_values, facecolor=color, edgecolor=color, alpha=0.7)\n",
        " # Label the silhouette plots with their cluster numbers at the middle\n",
        "        ax1.text(-0.05, y_lower + 0.5 * size_cluster_i, str(i))\n",
        " # Compute the new y_lower for next plot\n",
        "        y_lower = y_upper + 10 # 10 for the 0 samples\n",
        "        ax1.set_xlabel(\"The silhouette coefficient values\")\n",
        "        ax1.set_ylabel(\"Cluster label\")\n",
        "# The vertical line for average silhouette score of all the values\n",
        "        ax1.axvline(x=silhouette_avg, color=\"red\", linestyle=\"--\")\n",
        "        ax1.set_yticks([]) # Clear the yaxis labels / ticks\n",
        "        ax1.set_xticks([-0.1, 0, 0.2, 0.4, 0.6, 0.8, 1])\n",
        "plt.show()  "
      ],
      "id": "oM1h22hsEZKu"
    },
    {
      "cell_type": "markdown",
      "metadata": {
        "id": "407348d5"
      },
      "source": [
        "# kmeans_clustering"
      ],
      "id": "407348d5"
    },
    {
      "cell_type": "code",
      "execution_count": 20,
      "metadata": {
        "colab": {
          "base_uri": "https://localhost:8080/"
        },
        "id": "13fb8421",
        "outputId": "404a79da-fdaa-434a-b480-0a1f92aabe78"
      },
      "outputs": [
        {
          "output_type": "stream",
          "name": "stdout",
          "text": [
            "[[ 0.31831297  6.088121    0.06713762  0.20502805]\n",
            " [ 0.39568115 -0.10055259  0.89203325 -0.56586083]\n",
            " [ 0.44114137 -0.07929921 -0.80476852  0.47777477]\n",
            " [-1.68267615 -0.1196897  -0.02666014  0.06526338]]\n",
            "[2 3 1 ... 2 2 2]\n",
            "Attributes used for cluster model:  ['overall', 'main_cat', 'Month', 'Year']\n"
          ]
        }
      ],
      "source": [
        "kmeans = KMeans(n_clusters=4).fit(data_final)\n",
        "centroids = kmeans.cluster_centers_\n",
        "labels = kmeans.labels_\n",
        "print(centroids)\n",
        "print(labels)\n",
        "print('Attributes used for cluster model: ', scale_columns)"
      ],
      "id": "13fb8421"
    },
    {
      "cell_type": "code",
      "execution_count": 21,
      "metadata": {
        "colab": {
          "base_uri": "https://localhost:8080/",
          "height": 265
        },
        "id": "d0eb4d6a",
        "outputId": "db0a297c-04d7-43e9-fc47-f956ae9b30b2"
      },
      "outputs": [
        {
          "output_type": "display_data",
          "data": {
            "image/png": "[encoded data removed]",
            "text/plain": [
              "<Figure size 432x288 with 1 Axes>"
            ]
          },
          "metadata": {
            "needs_background": "light"
          }
        }
      ],
      "source": [
        "plt.scatter(data_final['main_cat'], data_final['overall'], c= kmeans.labels_.astype(int), s=50, alpha=0.5)\n",
        "plt.scatter(centroids[:, 0], centroids[:, 1], c='red', s=50)\n",
        "plt.show()"
      ],
      "id": "d0eb4d6a"
    },
    {
      "cell_type": "code",
      "execution_count": 22,
      "metadata": {
        "colab": {
          "base_uri": "https://localhost:8080/",
          "height": 414
        },
        "id": "0d87ee89",
        "outputId": "20b4266e-438e-4daf-af30-04788c02b7df"
      },
      "outputs": [
        {
          "output_type": "stream",
          "name": "stderr",
          "text": [
            "/usr/local/lib/python3.7/dist-packages/ipykernel_launcher.py:2: SettingWithCopyWarning: \n",
            "A value is trying to be set on a copy of a slice from a DataFrame.\n",
            "Try using .loc[row_indexer,col_indexer] = value instead\n",
            "\n",
            "See the caveats in the documentation: https://pandas.pydata.org/pandas-docs/stable/user_guide/indexing.html#returning-a-view-versus-a-copy\n",
            "  \n",
            "/usr/local/lib/python3.7/dist-packages/ipykernel_launcher.py:3: SettingWithCopyWarning: \n",
            "A value is trying to be set on a copy of a slice from a DataFrame.\n",
            "Try using .loc[row_indexer,col_indexer] = value instead\n",
            "\n",
            "See the caveats in the documentation: https://pandas.pydata.org/pandas-docs/stable/user_guide/indexing.html#returning-a-view-versus-a-copy\n",
            "  This is separate from the ipykernel package so we can avoid doing imports until\n"
          ]
        },
        {
          "output_type": "execute_result",
          "data": {
            "text/html": [
              "\n",
              "  <div id=\"df-f967e763-02fa-48df-b869-325f47010d94\">\n",
              "    <div class=\"colab-df-container\">\n",
              "      <div>\n",
              "<style scoped>\n",
              "    .dataframe tbody tr th:only-of-type {\n",
              "        vertical-align: middle;\n",
              "    }\n",
              "\n",
              "    .dataframe tbody tr th {\n",
              "        vertical-align: top;\n",
              "    }\n",
              "\n",
              "    .dataframe thead th {\n",
              "        text-align: right;\n",
              "    }\n",
              "</style>\n",
              "<table border=\"1\" class=\"dataframe\">\n",
              "  <thead>\n",
              "    <tr style=\"text-align: right;\">\n",
              "      <th></th>\n",
              "      <th>overall</th>\n",
              "      <th>main_cat</th>\n",
              "      <th>Month</th>\n",
              "      <th>Year</th>\n",
              "      <th>Cluster</th>\n",
              "    </tr>\n",
              "  </thead>\n",
              "  <tbody>\n",
              "    <tr>\n",
              "      <th>0</th>\n",
              "      <td>0.757483</td>\n",
              "      <td>-0.019983</td>\n",
              "      <td>-1.161386</td>\n",
              "      <td>-1.081367</td>\n",
              "      <td>2</td>\n",
              "    </tr>\n",
              "    <tr>\n",
              "      <th>1</th>\n",
              "      <td>-0.807273</td>\n",
              "      <td>-0.019983</td>\n",
              "      <td>-1.161386</td>\n",
              "      <td>-0.309530</td>\n",
              "      <td>3</td>\n",
              "    </tr>\n",
              "    <tr>\n",
              "      <th>2</th>\n",
              "      <td>0.757483</td>\n",
              "      <td>-0.019983</td>\n",
              "      <td>0.201673</td>\n",
              "      <td>-0.309530</td>\n",
              "      <td>1</td>\n",
              "    </tr>\n",
              "    <tr>\n",
              "      <th>3</th>\n",
              "      <td>0.757483</td>\n",
              "      <td>-0.019983</td>\n",
              "      <td>-1.161386</td>\n",
              "      <td>0.462307</td>\n",
              "      <td>2</td>\n",
              "    </tr>\n",
              "    <tr>\n",
              "      <th>4</th>\n",
              "      <td>-0.024895</td>\n",
              "      <td>-0.019983</td>\n",
              "      <td>1.564733</td>\n",
              "      <td>-0.309530</td>\n",
              "      <td>1</td>\n",
              "    </tr>\n",
              "  </tbody>\n",
              "</table>\n",
              "</div>\n",
              "      <button class=\"colab-df-convert\" onclick=\"convertToInteractive('df-f967e763-02fa-48df-b869-325f47010d94')\"\n",
              "              title=\"Convert this dataframe to an interactive table.\"\n",
              "              style=\"display:none;\">\n",
              "        \n",
              "  <svg xmlns=\"http://www.w3.org/2000/svg\" height=\"24px\"viewBox=\"0 0 24 24\"\n",
              "       width=\"24px\">\n",
              "    <path d=\"M0 0h24v24H0V0z\" fill=\"none\"/>\n",
              "    <path d=\"M18.56 5.44l.94 2.06.94-2.06 2.06-.94-2.06-.94-.94-2.06-.94 2.06-2.06.94zm-11 1L8.5 8.5l.94-2.06 2.06-.94-2.06-.94L8.5 2.5l-.94 2.06-2.06.94zm10 10l.94 2.06.94-2.06 2.06-.94-2.06-.94-.94-2.06-.94 2.06-2.06.94z\"/><path d=\"M17.41 7.96l-1.37-1.37c-.4-.4-.92-.59-1.43-.59-.52 0-1.04.2-1.43.59L10.3 9.45l-7.72 7.72c-.78.78-.78 2.05 0 2.83L4 21.41c.39.39.9.59 1.41.59.51 0 1.02-.2 1.41-.59l7.78-7.78 2.81-2.81c.8-.78.8-2.07 0-2.86zM5.41 20L4 18.59l7.72-7.72 1.47 1.35L5.41 20z\"/>\n",
              "  </svg>\n",
              "      </button>\n",
              "      \n",
              "  <style>\n",
              "    .colab-df-container {\n",
              "      display:flex;\n",
              "      flex-wrap:wrap;\n",
              "      gap: 12px;\n",
              "    }\n",
              "\n",
              "    .colab-df-convert {\n",
              "      background-color: #E8F0FE;\n",
              "      border: none;\n",
              "      border-radius: 50%;\n",
              "      cursor: pointer;\n",
              "      display: none;\n",
              "      fill: #1967D2;\n",
              "      height: 32px;\n",
              "      padding: 0 0 0 0;\n",
              "      width: 32px;\n",
              "    }\n",
              "\n",
              "    .colab-df-convert:hover {\n",
              "      background-color: #E2EBFA;\n",
              "      box-shadow: 0px 1px 2px rgba(60, 64, 67, 0.3), 0px 1px 3px 1px rgba(60, 64, 67, 0.15);\n",
              "      fill: #174EA6;\n",
              "    }\n",
              "\n",
              "    [theme=dark] .colab-df-convert {\n",
              "      background-color: #3B4455;\n",
              "      fill: #D2E3FC;\n",
              "    }\n",
              "\n",
              "    [theme=dark] .colab-df-convert:hover {\n",
              "      background-color: #434B5C;\n",
              "      box-shadow: 0px 1px 3px 1px rgba(0, 0, 0, 0.15);\n",
              "      filter: drop-shadow(0px 1px 2px rgba(0, 0, 0, 0.3));\n",
              "      fill: #FFFFFF;\n",
              "    }\n",
              "  </style>\n",
              "\n",
              "      <script>\n",
              "        const buttonEl =\n",
              "          document.querySelector('#df-f967e763-02fa-48df-b869-325f47010d94 button.colab-df-convert');\n",
              "        buttonEl.style.display =\n",
              "          google.colab.kernel.accessAllowed ? 'block' : 'none';\n",
              "\n",
              "        async function convertToInteractive(key) {\n",
              "          const element = document.querySelector('#df-f967e763-02fa-48df-b869-325f47010d94');\n",
              "          const dataTable =\n",
              "            await google.colab.kernel.invokeFunction('convertToInteractive',\n",
              "                                                     [key], {});\n",
              "          if (!dataTable) return;\n",
              "\n",
              "          const docLinkHtml = 'Like what you see? Visit the ' +\n",
              "            '<a target=\"_blank\" href=https://colab.research.google.com/notebooks/data_table.ipynb>data table notebook</a>'\n",
              "            + ' to learn more about interactive tables.';\n",
              "          element.innerHTML = '';\n",
              "          dataTable['output_type'] = 'display_data';\n",
              "          await google.colab.output.renderOutput(dataTable, element);\n",
              "          const docLink = document.createElement('div');\n",
              "          docLink.innerHTML = docLinkHtml;\n",
              "          element.appendChild(docLink);\n",
              "        }\n",
              "      </script>\n",
              "    </div>\n",
              "  </div>\n",
              "  "
            ],
            "text/plain": [
              "    overall  main_cat     Month      Year  Cluster\n",
              "0  0.757483 -0.019983 -1.161386 -1.081367        2\n",
              "1 -0.807273 -0.019983 -1.161386 -0.309530        3\n",
              "2  0.757483 -0.019983  0.201673 -0.309530        1\n",
              "3  0.757483 -0.019983 -1.161386  0.462307        2\n",
              "4 -0.024895 -0.019983  1.564733 -0.309530        1"
            ]
          },
          "metadata": {},
          "execution_count": 22
        }
      ],
      "source": [
        "clustered_df = data_final\n",
        "clustered_df['main_cat'] = data_final['main_cat']\n",
        "clustered_df['Cluster'] = kmeans.labels_\n",
        "clustered_df.head()"
      ],
      "id": "0d87ee89"
    },
    {
      "cell_type": "markdown",
      "metadata": {
        "id": "e47dbf4e"
      },
      "source": [
        "# DBSCAN algorithm"
      ],
      "id": "e47dbf4e"
    },
    {
      "cell_type": "code",
      "execution_count": 15,
      "metadata": {
        "id": "944498b8"
      },
      "outputs": [],
      "source": [
        "from sklearn.cluster import DBSCAN\n",
        "import matplotlib.pyplot as plt"
      ],
      "id": "944498b8"
    },
    {
      "cell_type": "code",
      "execution_count": 16,
      "metadata": {
        "colab": {
          "base_uri": "https://localhost:8080/",
          "height": 1000
        },
        "id": "a30a7670",
        "outputId": "adf1a112-ddfd-4a2f-a850-bc953d4cff2f"
      },
      "outputs": [
        {
          "output_type": "stream",
          "name": "stdout",
          "text": [
            "for eps= 0.9 & min_samples= 3\n",
            "eps= 0.9 & min_samples= 3 cluster count=  0     43156\n",
            " 1       398\n",
            " 6       268\n",
            " 3       233\n",
            " 8       207\n",
            " 7       192\n",
            " 4       144\n",
            "-1        71\n",
            " 2        57\n",
            " 10       56\n",
            " 11       13\n",
            " 13       11\n",
            " 12       10\n",
            " 9         8\n",
            " 14        4\n",
            " 15        4\n",
            " 16        4\n",
            " 17        4\n",
            " 18        4\n",
            " 5         3\n",
            "dtype: int64\n"
          ]
        },
        {
          "output_type": "display_data",
          "data": {
            "image/png": "[encoded data removed]",
            "text/plain": [
              "<Figure size 432x288 with 1 Axes>"
            ]
          },
          "metadata": {
            "needs_background": "light"
          }
        },
        {
          "output_type": "stream",
          "name": "stdout",
          "text": [
            "for eps= 0.9 & min_samples= 4\n",
            "eps= 0.9 & min_samples= 4 cluster count=  0     43156\n",
            " 1       398\n",
            " 5       264\n",
            " 3       232\n",
            " 7       206\n",
            " 6       192\n",
            " 4       144\n",
            "-1        88\n",
            " 2        57\n",
            " 9        53\n",
            " 11       13\n",
            " 13       11\n",
            " 12        9\n",
            " 8         6\n",
            " 14        4\n",
            " 15        4\n",
            " 16        4\n",
            " 17        4\n",
            " 10        2\n",
            "dtype: int64\n"
          ]
        },
        {
          "output_type": "display_data",
          "data": {
            "image/png": "[encoded data removed]",
            "text/plain": [
              "<Figure size 432x288 with 1 Axes>"
            ]
          },
          "metadata": {
            "needs_background": "light"
          }
        },
        {
          "output_type": "stream",
          "name": "stdout",
          "text": [
            "for eps= 0.9 & min_samples= 5\n",
            "eps= 0.9 & min_samples= 5 cluster count=  0     43156\n",
            " 1       396\n",
            " 5       262\n",
            " 3       230\n",
            " 7       206\n",
            " 6       192\n",
            " 4       141\n",
            "-1       116\n",
            " 2        55\n",
            " 9        52\n",
            " 11       13\n",
            " 13       10\n",
            " 12        9\n",
            " 8         6\n",
            " 10        3\n",
            "dtype: int64\n"
          ]
        },
        {
          "output_type": "display_data",
          "data": {
            "image/png": "[encoded data removed]",
            "text/plain": [
              "<Figure size 432x288 with 1 Axes>"
            ]
          },
          "metadata": {
            "needs_background": "light"
          }
        },
        {
          "output_type": "stream",
          "name": "stdout",
          "text": [
            "for eps= 1 & min_samples= 3\n",
            "eps= 1 & min_samples= 3 cluster count=  0    44814\n",
            "-1       26\n",
            " 1        4\n",
            " 2        3\n",
            "dtype: int64\n"
          ]
        },
        {
          "output_type": "display_data",
          "data": {
            "image/png": "[encoded data removed]",
            "text/plain": [
              "<Figure size 432x288 with 1 Axes>"
            ]
          },
          "metadata": {
            "needs_background": "light"
          }
        },
        {
          "output_type": "stream",
          "name": "stdout",
          "text": [
            "for eps= 1 & min_samples= 4\n",
            "eps= 1 & min_samples= 4 cluster count=  0    44812\n",
            "-1       35\n",
            "dtype: int64\n"
          ]
        },
        {
          "output_type": "display_data",
          "data": {
            "image/png": "[encoded data removed]",
            "text/plain": [
              "<Figure size 432x288 with 1 Axes>"
            ]
          },
          "metadata": {
            "needs_background": "light"
          }
        },
        {
          "output_type": "stream",
          "name": "stdout",
          "text": [
            "for eps= 1 & min_samples= 5\n",
            "eps= 1 & min_samples= 5 cluster count=  0    44804\n",
            "-1       36\n",
            " 1        7\n",
            "dtype: int64\n"
          ]
        },
        {
          "output_type": "display_data",
          "data": {
            "image/png": "[encoded data removed]",
            "text/plain": [
              "<Figure size 432x288 with 1 Axes>"
            ]
          },
          "metadata": {
            "needs_background": "light"
          }
        },
        {
          "output_type": "stream",
          "name": "stdout",
          "text": [
            "for eps= 1.2 & min_samples= 3\n",
            "eps= 1.2 & min_samples= 3 cluster count=  0    44834\n",
            "-1        9\n",
            " 1        4\n",
            "dtype: int64\n"
          ]
        },
        {
          "output_type": "display_data",
          "data": {
            "image/png": "[encoded data removed]",
            "text/plain": [
              "<Figure size 432x288 with 1 Axes>"
            ]
          },
          "metadata": {
            "needs_background": "light"
          }
        },
        {
          "output_type": "stream",
          "name": "stdout",
          "text": [
            "for eps= 1.2 & min_samples= 4\n",
            "eps= 1.2 & min_samples= 4 cluster count=  0    44832\n",
            "-1       11\n",
            " 1        4\n",
            "dtype: int64\n"
          ]
        },
        {
          "output_type": "display_data",
          "data": {
            "image/png": "[encoded data removed]",
            "text/plain": [
              "<Figure size 432x288 with 1 Axes>"
            ]
          },
          "metadata": {
            "needs_background": "light"
          }
        },
        {
          "output_type": "stream",
          "name": "stdout",
          "text": [
            "for eps= 1.2 & min_samples= 5\n",
            "eps= 1.2 & min_samples= 5 cluster count=  0    44830\n",
            "-1       17\n",
            "dtype: int64\n"
          ]
        },
        {
          "output_type": "display_data",
          "data": {
            "image/png": "[encoded data removed]",
            "text/plain": [
              "<Figure size 432x288 with 1 Axes>"
            ]
          },
          "metadata": {
            "needs_background": "light"
          }
        },
        {
          "output_type": "stream",
          "name": "stdout",
          "text": [
            "for eps= 1.3 & min_samples= 3\n",
            "eps= 1.3 & min_samples= 3 cluster count=  0    44837\n",
            "-1        5\n",
            " 1        5\n",
            "dtype: int64\n"
          ]
        },
        {
          "output_type": "display_data",
          "data": {
            "image/png": "[encoded data removed]",
            "text/plain": [
              "<Figure size 432x288 with 1 Axes>"
            ]
          },
          "metadata": {
            "needs_background": "light"
          }
        },
        {
          "output_type": "stream",
          "name": "stdout",
          "text": [
            "for eps= 1.3 & min_samples= 4\n",
            "eps= 1.3 & min_samples= 4 cluster count=  0    44837\n",
            "-1        5\n",
            " 1        5\n",
            "dtype: int64\n"
          ]
        },
        {
          "output_type": "display_data",
          "data": {
            "image/png": "[encoded data removed]",
            "text/plain": [
              "<Figure size 432x288 with 1 Axes>"
            ]
          },
          "metadata": {
            "needs_background": "light"
          }
        },
        {
          "output_type": "stream",
          "name": "stdout",
          "text": [
            "for eps= 1.3 & min_samples= 5\n",
            "eps= 1.3 & min_samples= 5 cluster count=  0    44836\n",
            "-1        6\n",
            " 1        5\n",
            "dtype: int64\n"
          ]
        },
        {
          "output_type": "display_data",
          "data": {
            "image/png": "[encoded data removed]",
            "text/plain": [
              "<Figure size 432x288 with 1 Axes>"
            ]
          },
          "metadata": {
            "needs_background": "light"
          }
        },
        {
          "output_type": "stream",
          "name": "stdout",
          "text": [
            "for eps= 1.4 & min_samples= 3\n",
            "eps= 1.4 & min_samples= 3 cluster count=  0    44837\n",
            "-1        5\n",
            " 1        5\n",
            "dtype: int64\n"
          ]
        },
        {
          "output_type": "display_data",
          "data": {
            "image/png": "[encoded data removed]",
            "text/plain": [
              "<Figure size 432x288 with 1 Axes>"
            ]
          },
          "metadata": {
            "needs_background": "light"
          }
        },
        {
          "output_type": "stream",
          "name": "stdout",
          "text": [
            "for eps= 1.4 & min_samples= 4\n",
            "eps= 1.4 & min_samples= 4 cluster count=  0    44837\n",
            "-1        5\n",
            " 1        5\n",
            "dtype: int64\n"
          ]
        },
        {
          "output_type": "display_data",
          "data": {
            "image/png": "[encoded data removed]",
            "text/plain": [
              "<Figure size 432x288 with 1 Axes>"
            ]
          },
          "metadata": {
            "needs_background": "light"
          }
        },
        {
          "output_type": "stream",
          "name": "stdout",
          "text": [
            "for eps= 1.4 & min_samples= 5\n",
            "eps= 1.4 & min_samples= 5 cluster count=  0    44837\n",
            "-1        5\n",
            " 1        5\n",
            "dtype: int64\n"
          ]
        },
        {
          "output_type": "display_data",
          "data": {
            "image/png": "[encoded data removed]",
            "text/plain": [
              "<Figure size 432x288 with 1 Axes>"
            ]
          },
          "metadata": {
            "needs_background": "light"
          }
        }
      ],
      "source": [
        "eps= [0.9,1,1.2,1.3,1.4]\n",
        "min_samples= [3,4,5]\n",
        "for x in eps:\n",
        "    for y in min_samples:\n",
        "        dbscan =DBSCAN(eps=x, min_samples=y) \n",
        "        y_pred= dbscan.fit_predict(data_final)\n",
        "        dt = pd.DataFrame(y_pred)\n",
        "        print('for eps=',x,'&','min_samples=',y)\n",
        "        print('eps=',x,'&','min_samples=',y,'cluster count=',dt.value_counts())\n",
        "        plt.scatter(data_final['main_cat'],data_final['overall'],c=y_pred, cmap='Paired') \n",
        "        plt.title(\"DBSCAN\")\n",
        "        plt.show()"
      ],
      "id": "a30a7670"
    },
    {
      "cell_type": "code",
      "execution_count": 17,
      "metadata": {
        "colab": {
          "base_uri": "https://localhost:8080/",
          "height": 310
        },
        "id": "904e7f3f",
        "outputId": "023c4bda-2655-468b-b787-7f5eb56bea7d"
      },
      "outputs": [
        {
          "output_type": "stream",
          "name": "stderr",
          "text": [
            "/usr/local/lib/python3.7/dist-packages/ipykernel_launcher.py:4: SettingWithCopyWarning: \n",
            "A value is trying to be set on a copy of a slice from a DataFrame.\n",
            "Try using .loc[row_indexer,col_indexer] = value instead\n",
            "\n",
            "See the caveats in the documentation: https://pandas.pydata.org/pandas-docs/stable/user_guide/indexing.html#returning-a-view-versus-a-copy\n",
            "  after removing the cwd from sys.path.\n"
          ]
        },
        {
          "output_type": "execute_result",
          "data": {
            "text/html": [
              "\n",
              "  <div id=\"df-695912d1-142d-4ed7-a6b2-735e398e9218\">\n",
              "    <div class=\"colab-df-container\">\n",
              "      <div>\n",
              "<style scoped>\n",
              "    .dataframe tbody tr th:only-of-type {\n",
              "        vertical-align: middle;\n",
              "    }\n",
              "\n",
              "    .dataframe tbody tr th {\n",
              "        vertical-align: top;\n",
              "    }\n",
              "\n",
              "    .dataframe thead th {\n",
              "        text-align: right;\n",
              "    }\n",
              "</style>\n",
              "<table border=\"1\" class=\"dataframe\">\n",
              "  <thead>\n",
              "    <tr style=\"text-align: right;\">\n",
              "      <th></th>\n",
              "      <th>overall</th>\n",
              "      <th>main_cat</th>\n",
              "      <th>Month</th>\n",
              "      <th>Year</th>\n",
              "      <th>clusterid</th>\n",
              "    </tr>\n",
              "  </thead>\n",
              "  <tbody>\n",
              "    <tr>\n",
              "      <th>0</th>\n",
              "      <td>0.757483</td>\n",
              "      <td>-0.019983</td>\n",
              "      <td>-1.161386</td>\n",
              "      <td>-1.081367</td>\n",
              "      <td>0</td>\n",
              "    </tr>\n",
              "    <tr>\n",
              "      <th>1</th>\n",
              "      <td>-0.807273</td>\n",
              "      <td>-0.019983</td>\n",
              "      <td>-1.161386</td>\n",
              "      <td>-0.309530</td>\n",
              "      <td>0</td>\n",
              "    </tr>\n",
              "    <tr>\n",
              "      <th>2</th>\n",
              "      <td>0.757483</td>\n",
              "      <td>-0.019983</td>\n",
              "      <td>0.201673</td>\n",
              "      <td>-0.309530</td>\n",
              "      <td>0</td>\n",
              "    </tr>\n",
              "    <tr>\n",
              "      <th>3</th>\n",
              "      <td>0.757483</td>\n",
              "      <td>-0.019983</td>\n",
              "      <td>-1.161386</td>\n",
              "      <td>0.462307</td>\n",
              "      <td>0</td>\n",
              "    </tr>\n",
              "    <tr>\n",
              "      <th>4</th>\n",
              "      <td>-0.024895</td>\n",
              "      <td>-0.019983</td>\n",
              "      <td>1.564733</td>\n",
              "      <td>-0.309530</td>\n",
              "      <td>0</td>\n",
              "    </tr>\n",
              "  </tbody>\n",
              "</table>\n",
              "</div>\n",
              "      <button class=\"colab-df-convert\" onclick=\"convertToInteractive('df-695912d1-142d-4ed7-a6b2-735e398e9218')\"\n",
              "              title=\"Convert this dataframe to an interactive table.\"\n",
              "              style=\"display:none;\">\n",
              "        \n",
              "  <svg xmlns=\"http://www.w3.org/2000/svg\" height=\"24px\"viewBox=\"0 0 24 24\"\n",
              "       width=\"24px\">\n",
              "    <path d=\"M0 0h24v24H0V0z\" fill=\"none\"/>\n",
              "    <path d=\"M18.56 5.44l.94 2.06.94-2.06 2.06-.94-2.06-.94-.94-2.06-.94 2.06-2.06.94zm-11 1L8.5 8.5l.94-2.06 2.06-.94-2.06-.94L8.5 2.5l-.94 2.06-2.06.94zm10 10l.94 2.06.94-2.06 2.06-.94-2.06-.94-.94-2.06-.94 2.06-2.06.94z\"/><path d=\"M17.41 7.96l-1.37-1.37c-.4-.4-.92-.59-1.43-.59-.52 0-1.04.2-1.43.59L10.3 9.45l-7.72 7.72c-.78.78-.78 2.05 0 2.83L4 21.41c.39.39.9.59 1.41.59.51 0 1.02-.2 1.41-.59l7.78-7.78 2.81-2.81c.8-.78.8-2.07 0-2.86zM5.41 20L4 18.59l7.72-7.72 1.47 1.35L5.41 20z\"/>\n",
              "  </svg>\n",
              "      </button>\n",
              "      \n",
              "  <style>\n",
              "    .colab-df-container {\n",
              "      display:flex;\n",
              "      flex-wrap:wrap;\n",
              "      gap: 12px;\n",
              "    }\n",
              "\n",
              "    .colab-df-convert {\n",
              "      background-color: #E8F0FE;\n",
              "      border: none;\n",
              "      border-radius: 50%;\n",
              "      cursor: pointer;\n",
              "      display: none;\n",
              "      fill: #1967D2;\n",
              "      height: 32px;\n",
              "      padding: 0 0 0 0;\n",
              "      width: 32px;\n",
              "    }\n",
              "\n",
              "    .colab-df-convert:hover {\n",
              "      background-color: #E2EBFA;\n",
              "      box-shadow: 0px 1px 2px rgba(60, 64, 67, 0.3), 0px 1px 3px 1px rgba(60, 64, 67, 0.15);\n",
              "      fill: #174EA6;\n",
              "    }\n",
              "\n",
              "    [theme=dark] .colab-df-convert {\n",
              "      background-color: #3B4455;\n",
              "      fill: #D2E3FC;\n",
              "    }\n",
              "\n",
              "    [theme=dark] .colab-df-convert:hover {\n",
              "      background-color: #434B5C;\n",
              "      box-shadow: 0px 1px 3px 1px rgba(0, 0, 0, 0.15);\n",
              "      filter: drop-shadow(0px 1px 2px rgba(0, 0, 0, 0.3));\n",
              "      fill: #FFFFFF;\n",
              "    }\n",
              "  </style>\n",
              "\n",
              "      <script>\n",
              "        const buttonEl =\n",
              "          document.querySelector('#df-695912d1-142d-4ed7-a6b2-735e398e9218 button.colab-df-convert');\n",
              "        buttonEl.style.display =\n",
              "          google.colab.kernel.accessAllowed ? 'block' : 'none';\n",
              "\n",
              "        async function convertToInteractive(key) {\n",
              "          const element = document.querySelector('#df-695912d1-142d-4ed7-a6b2-735e398e9218');\n",
              "          const dataTable =\n",
              "            await google.colab.kernel.invokeFunction('convertToInteractive',\n",
              "                                                     [key], {});\n",
              "          if (!dataTable) return;\n",
              "\n",
              "          const docLinkHtml = 'Like what you see? Visit the ' +\n",
              "            '<a target=\"_blank\" href=https://colab.research.google.com/notebooks/data_table.ipynb>data table notebook</a>'\n",
              "            + ' to learn more about interactive tables.';\n",
              "          element.innerHTML = '';\n",
              "          dataTable['output_type'] = 'display_data';\n",
              "          await google.colab.output.renderOutput(dataTable, element);\n",
              "          const docLink = document.createElement('div');\n",
              "          docLink.innerHTML = docLinkHtml;\n",
              "          element.appendChild(docLink);\n",
              "        }\n",
              "      </script>\n",
              "    </div>\n",
              "  </div>\n",
              "  "
            ],
            "text/plain": [
              "    overall  main_cat     Month      Year  clusterid\n",
              "0  0.757483 -0.019983 -1.161386 -1.081367          0\n",
              "1 -0.807273 -0.019983 -1.161386 -0.309530          0\n",
              "2  0.757483 -0.019983  0.201673 -0.309530          0\n",
              "3  0.757483 -0.019983 -1.161386  0.462307          0\n",
              "4 -0.024895 -0.019983  1.564733 -0.309530          0"
            ]
          },
          "metadata": {},
          "execution_count": 17
        }
      ],
      "source": [
        "eps= 0.9\n",
        "min_samples= 3\n",
        "dbscan = DBSCAN(eps=eps, min_samples=min_samples)\n",
        "data_final['clusterid'] = dbscan.fit_predict(data_final)\n",
        "data_final.head()"
      ],
      "id": "904e7f3f"
    },
    {
      "cell_type": "code",
      "execution_count": 18,
      "metadata": {
        "colab": {
          "base_uri": "https://localhost:8080/",
          "height": 298
        },
        "id": "6ff258bf",
        "outputId": "99ebf607-0e30-4470-9928-a3e986336346"
      },
      "outputs": [
        {
          "output_type": "execute_result",
          "data": {
            "text/plain": [
              "Text(0.5, 1.0, 'DBSCAN')"
            ]
          },
          "metadata": {},
          "execution_count": 18
        },
        {
          "output_type": "display_data",
          "data": {
            "image/png": "[encoded data removed]",
            "text/plain": [
              "<Figure size 432x288 with 1 Axes>"
            ]
          },
          "metadata": {
            "needs_background": "light"
          }
        }
      ],
      "source": [
        "y_pred=data_final['clusterid'] \n",
        "plt.scatter(data_final['main_cat'],data_final['overall'],c=y_pred) \n",
        "plt.title(\"DBSCAN\")"
      ],
      "id": "6ff258bf"
    },
    {
      "cell_type": "markdown",
      "metadata": {
        "id": "b774e54a"
      },
      "source": [
        "# Hdbscan"
      ],
      "id": "b774e54a"
    },
    {
      "cell_type": "code",
      "execution_count": 1,
      "metadata": {
        "id": "920c6d79",
        "colab": {
          "base_uri": "https://localhost:8080/"
        },
        "outputId": "70b7fefe-4710-44de-c2f0-c1aa325343f5"
      },
      "outputs": [
        {
          "output_type": "stream",
          "name": "stdout",
          "text": [
            "Requirement already satisfied: hdbscan in /usr/local/lib/python3.7/dist-packages (0.8.28)\n",
            "Requirement already satisfied: numpy>=1.20 in /usr/local/lib/python3.7/dist-packages (from hdbscan) (1.21.5)\n",
            "Requirement already satisfied: joblib>=1.0 in /usr/local/lib/python3.7/dist-packages (from hdbscan) (1.1.0)\n",
            "Requirement already satisfied: cython>=0.27 in /usr/local/lib/python3.7/dist-packages (from hdbscan) (0.29.28)\n",
            "Requirement already satisfied: scipy>=1.0 in /usr/local/lib/python3.7/dist-packages (from hdbscan) (1.4.1)\n",
            "Requirement already satisfied: scikit-learn>=0.20 in /usr/local/lib/python3.7/dist-packages (from hdbscan) (1.0.2)\n",
            "Requirement already satisfied: threadpoolctl>=2.0.0 in /usr/local/lib/python3.7/dist-packages (from scikit-learn>=0.20->hdbscan) (3.1.0)\n"
          ]
        }
      ],
      "source": [
        "!pip install hdbscan"
      ],
      "id": "920c6d79"
    },
    {
      "cell_type": "code",
      "execution_count": 2,
      "metadata": {
        "id": "86c9c939"
      },
      "outputs": [],
      "source": [
        "import hdbscan\n",
        "import numpy as np "
      ],
      "id": "86c9c939"
    },
    {
      "cell_type": "code",
      "execution_count": 19,
      "metadata": {
        "id": "36907576",
        "colab": {
          "base_uri": "https://localhost:8080/"
        },
        "outputId": "60ee71b9-6662-4b96-9afe-d71c9f0abe6e"
      },
      "outputs": [
        {
          "output_type": "stream",
          "name": "stdout",
          "text": [
            "For: 30\n",
            "no of clusters formed are 233\n",
            "no of outliers is 1393\n",
            "For: 40\n",
            "no of clusters formed are 208\n",
            "no of outliers is 1496\n",
            "For: 50\n",
            "no of clusters formed are 192\n",
            "no of outliers is 2332\n",
            "For: 60\n",
            "no of clusters formed are 179\n",
            "no of outliers is 2855\n",
            "For: 70\n",
            "no of clusters formed are 161\n",
            "no of outliers is 2541\n",
            "For: 10\n",
            "no of clusters formed are 360\n",
            "no of outliers is 969\n",
            "For: 20\n",
            "no of clusters formed are 263\n",
            "no of outliers is 922\n",
            "For: 15\n",
            "no of clusters formed are 288\n",
            "no of outliers is 716\n"
          ]
        }
      ],
      "source": [
        "clusters=[]\n",
        "outliers=[]\n",
        "min_sample=[30,40,50,60,70,10,20,15]\n",
        "for x in min_sample:\n",
        "    clusterer_label = hdbscan.HDBSCAN(min_cluster_size=x).fit_predict(data_final)\n",
        "    a,b=np.unique(clusterer_label,return_counts=True)\n",
        "    print('For:',x)\n",
        "    clusters.append(len(a))\n",
        "    print('no of clusters formed are',len(a))\n",
        "    if (a[0]==-1):\n",
        "        outliers.append(b[0])\n",
        "        print('no of outliers is',b[0])"
      ],
      "id": "36907576"
    },
    {
      "cell_type": "code",
      "execution_count": 20,
      "metadata": {
        "id": "0a565da7",
        "colab": {
          "base_uri": "https://localhost:8080/"
        },
        "outputId": "f938a762-f238-4c2a-d50b-65d8fcefd508"
      },
      "outputs": [
        {
          "output_type": "execute_result",
          "data": {
            "text/plain": [
              "HDBSCAN(gen_min_span_tree=True, min_cluster_size=15)"
            ]
          },
          "metadata": {},
          "execution_count": 20
        }
      ],
      "source": [
        "clusterer = hdbscan.HDBSCAN(min_cluster_size=15, gen_min_span_tree=True) \n",
        "clusterer.fit(data_final)"
      ],
      "id": "0a565da7"
    },
    {
      "cell_type": "code",
      "execution_count": 22,
      "metadata": {
        "id": "-OdheQKuATiR",
        "colab": {
          "base_uri": "https://localhost:8080/",
          "height": 310
        },
        "outputId": "835bdfc9-6f12-4139-ce21-6686abae26ee"
      },
      "outputs": [
        {
          "output_type": "stream",
          "name": "stderr",
          "text": [
            "/usr/local/lib/python3.7/dist-packages/hdbscan/plots.py:383: UserWarning: Infinite lambda values encountered in chosen clusters. This might be due to duplicates in the data.\n",
            "  warn('Infinite lambda values encountered in chosen clusters.'\n"
          ]
        },
        {
          "output_type": "execute_result",
          "data": {
            "text/plain": [
              "<matplotlib.axes._subplots.AxesSubplot at 0x7f656859a710>"
            ]
          },
          "metadata": {},
          "execution_count": 22
        },
        {
          "output_type": "display_data",
          "data": {
            "image/png": "[encoded data removed]",
            "text/plain": [
              "<Figure size 432x288 with 2 Axes>"
            ]
          },
          "metadata": {
            "needs_background": "light"
          }
        }
      ],
      "source": [
        "import seaborn as sns\n",
        "clusterer.condensed_tree_.plot(select_clusters=True, selection_palette=sns.color_palette())"
      ],
      "id": "-OdheQKuATiR"
    }
  ],
  "metadata": {
    "colab": {
      "name": "cellphone_clustering.ipynb",
      "provenance": [],
      "collapsed_sections": []
    },
    "kernelspec": {
      "display_name": "Python 3",
      "language": "python",
      "name": "python3"
    },
    "language_info": {
      "codemirror_mode": {
        "name": "ipython",
        "version": 3
      },
      "file_extension": ".py",
      "mimetype": "text/x-python",
      "name": "python",
      "nbconvert_exporter": "python",
      "pygments_lexer": "ipython3",
      "version": "3.8.8"
    }
  },
  "nbformat": 4,
  "nbformat_minor": 5
}